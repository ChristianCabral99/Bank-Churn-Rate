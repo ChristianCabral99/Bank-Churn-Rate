{
 "cells": [
  {
   "cell_type": "markdown",
   "id": "5b699845",
   "metadata": {},
   "source": [
    "# Introduction"
   ]
  },
  {
   "cell_type": "markdown",
   "id": "4c7a8527",
   "metadata": {},
   "source": [
    "The Churn Rate, also known as the Rate of Attrition or Customer Cancellation Rate is a metric that measures the number of customers and subscribers who have stopped following a company or have stopped doing business with them in a long period of time.\n",
    "\n",
    "Churn rates can be applied to subscription-based businesses as well to the number of employees that leave a firm. Each industry will have a different average churn rate that companies can compare themselves with to understand their competitiveness.\n",
    "\n",
    "A high churn rate could affect profits and impede growth. Churn rate is an important factor in the telecommunications, services, insurance and banking industries. In most areas, many of these companies compete, making it easy for people to transfer from one provider to another.\n",
    "\n",
    "In this project, I will be using a Bank Customers Dataset to build a few Churn Prediction Models using different methods, such as Logistic Regression, Support Vector Machine (SVC) and Decision Trees."
   ]
  },
  {
   "cell_type": "markdown",
   "id": "becdc553",
   "metadata": {},
   "source": [
    "# Data"
   ]
  },
  {
   "cell_type": "markdown",
   "id": "c3b48526",
   "metadata": {},
   "source": [
    "For this project, I will be using the dataset \"Bank Customers Churn\" from Omer Yasir Kucuk, obtained in Kaggle (https://www.kaggle.com/omeryasirkucuk/calculation-accuracy-score-w-bank-churn-dataset/data). It contains data from 10,000 customers of a bank, which they have started to withdraw their acounts from it.\n",
    "\n",
    "The dataset has many properties, such as Credit Score, Geography (the country the customer lives in), Gender, Age, Tenure (how many years the customer has stayed in this bank), Account Balance, Number of Products (the number of the bank's products the customer uses), Has Credit Card, Is Active Member (if he does bank operations constantly), Estimated Salary and Exited (if the client has withdrawn his/her account from the bank)."
   ]
  },
  {
   "cell_type": "markdown",
   "id": "4a8aa9a8",
   "metadata": {},
   "source": [
    "# Methodology"
   ]
  },
  {
   "cell_type": "markdown",
   "id": "6bb418fb",
   "metadata": {},
   "source": [
    "The first step is to import the libraries we will be using for managing the data (Numpy and Pandas) and to visualize charts (Matplotlib and Seaborn)."
   ]
  },
  {
   "cell_type": "code",
   "execution_count": 3,
   "id": "86b8a240",
   "metadata": {},
   "outputs": [],
   "source": [
    "import numpy as np\n",
    "import matplotlib.pyplot as plt\n",
    "import matplotlib.ticker as mtick\n",
    "import pandas as pd\n",
    "import seaborn as sns"
   ]
  },
  {
   "cell_type": "markdown",
   "id": "35a56641",
   "metadata": {},
   "source": [
    "Then, the data is obtained using Pandas."
   ]
  },
  {
   "cell_type": "code",
   "execution_count": 4,
   "id": "4e21db1a",
   "metadata": {},
   "outputs": [],
   "source": [
    "df = pd.read_csv('Bank.csv')"
   ]
  },
  {
   "cell_type": "code",
   "execution_count": 5,
   "id": "21c34148",
   "metadata": {},
   "outputs": [
    {
     "data": {
      "text/html": [
       "<div>\n",
       "<style scoped>\n",
       "    .dataframe tbody tr th:only-of-type {\n",
       "        vertical-align: middle;\n",
       "    }\n",
       "\n",
       "    .dataframe tbody tr th {\n",
       "        vertical-align: top;\n",
       "    }\n",
       "\n",
       "    .dataframe thead th {\n",
       "        text-align: right;\n",
       "    }\n",
       "</style>\n",
       "<table border=\"1\" class=\"dataframe\">\n",
       "  <thead>\n",
       "    <tr style=\"text-align: right;\">\n",
       "      <th></th>\n",
       "      <th>RowNumber</th>\n",
       "      <th>CustomerId</th>\n",
       "      <th>Surname</th>\n",
       "      <th>CreditScore</th>\n",
       "      <th>Geography</th>\n",
       "      <th>Gender</th>\n",
       "      <th>Age</th>\n",
       "      <th>Tenure</th>\n",
       "      <th>Balance</th>\n",
       "      <th>NumOfProducts</th>\n",
       "      <th>HasCrCard</th>\n",
       "      <th>IsActiveMember</th>\n",
       "      <th>EstimatedSalary</th>\n",
       "      <th>Exited</th>\n",
       "    </tr>\n",
       "  </thead>\n",
       "  <tbody>\n",
       "    <tr>\n",
       "      <th>0</th>\n",
       "      <td>1</td>\n",
       "      <td>15634602</td>\n",
       "      <td>Hargrave</td>\n",
       "      <td>619</td>\n",
       "      <td>France</td>\n",
       "      <td>Female</td>\n",
       "      <td>42</td>\n",
       "      <td>2</td>\n",
       "      <td>0.00</td>\n",
       "      <td>1</td>\n",
       "      <td>1</td>\n",
       "      <td>1</td>\n",
       "      <td>101348.88</td>\n",
       "      <td>1</td>\n",
       "    </tr>\n",
       "    <tr>\n",
       "      <th>1</th>\n",
       "      <td>2</td>\n",
       "      <td>15647311</td>\n",
       "      <td>Hill</td>\n",
       "      <td>608</td>\n",
       "      <td>Spain</td>\n",
       "      <td>Female</td>\n",
       "      <td>41</td>\n",
       "      <td>1</td>\n",
       "      <td>83807.86</td>\n",
       "      <td>1</td>\n",
       "      <td>0</td>\n",
       "      <td>1</td>\n",
       "      <td>112542.58</td>\n",
       "      <td>0</td>\n",
       "    </tr>\n",
       "    <tr>\n",
       "      <th>2</th>\n",
       "      <td>3</td>\n",
       "      <td>15619304</td>\n",
       "      <td>Onio</td>\n",
       "      <td>502</td>\n",
       "      <td>France</td>\n",
       "      <td>Female</td>\n",
       "      <td>42</td>\n",
       "      <td>8</td>\n",
       "      <td>159660.80</td>\n",
       "      <td>3</td>\n",
       "      <td>1</td>\n",
       "      <td>0</td>\n",
       "      <td>113931.57</td>\n",
       "      <td>1</td>\n",
       "    </tr>\n",
       "    <tr>\n",
       "      <th>3</th>\n",
       "      <td>4</td>\n",
       "      <td>15701354</td>\n",
       "      <td>Boni</td>\n",
       "      <td>699</td>\n",
       "      <td>France</td>\n",
       "      <td>Female</td>\n",
       "      <td>39</td>\n",
       "      <td>1</td>\n",
       "      <td>0.00</td>\n",
       "      <td>2</td>\n",
       "      <td>0</td>\n",
       "      <td>0</td>\n",
       "      <td>93826.63</td>\n",
       "      <td>0</td>\n",
       "    </tr>\n",
       "    <tr>\n",
       "      <th>4</th>\n",
       "      <td>5</td>\n",
       "      <td>15737888</td>\n",
       "      <td>Mitchell</td>\n",
       "      <td>850</td>\n",
       "      <td>Spain</td>\n",
       "      <td>Female</td>\n",
       "      <td>43</td>\n",
       "      <td>2</td>\n",
       "      <td>125510.82</td>\n",
       "      <td>1</td>\n",
       "      <td>1</td>\n",
       "      <td>1</td>\n",
       "      <td>79084.10</td>\n",
       "      <td>0</td>\n",
       "    </tr>\n",
       "    <tr>\n",
       "      <th>...</th>\n",
       "      <td>...</td>\n",
       "      <td>...</td>\n",
       "      <td>...</td>\n",
       "      <td>...</td>\n",
       "      <td>...</td>\n",
       "      <td>...</td>\n",
       "      <td>...</td>\n",
       "      <td>...</td>\n",
       "      <td>...</td>\n",
       "      <td>...</td>\n",
       "      <td>...</td>\n",
       "      <td>...</td>\n",
       "      <td>...</td>\n",
       "      <td>...</td>\n",
       "    </tr>\n",
       "    <tr>\n",
       "      <th>9995</th>\n",
       "      <td>9996</td>\n",
       "      <td>15606229</td>\n",
       "      <td>Obijiaku</td>\n",
       "      <td>771</td>\n",
       "      <td>France</td>\n",
       "      <td>Male</td>\n",
       "      <td>39</td>\n",
       "      <td>5</td>\n",
       "      <td>0.00</td>\n",
       "      <td>2</td>\n",
       "      <td>1</td>\n",
       "      <td>0</td>\n",
       "      <td>96270.64</td>\n",
       "      <td>0</td>\n",
       "    </tr>\n",
       "    <tr>\n",
       "      <th>9996</th>\n",
       "      <td>9997</td>\n",
       "      <td>15569892</td>\n",
       "      <td>Johnstone</td>\n",
       "      <td>516</td>\n",
       "      <td>France</td>\n",
       "      <td>Male</td>\n",
       "      <td>35</td>\n",
       "      <td>10</td>\n",
       "      <td>57369.61</td>\n",
       "      <td>1</td>\n",
       "      <td>1</td>\n",
       "      <td>1</td>\n",
       "      <td>101699.77</td>\n",
       "      <td>0</td>\n",
       "    </tr>\n",
       "    <tr>\n",
       "      <th>9997</th>\n",
       "      <td>9998</td>\n",
       "      <td>15584532</td>\n",
       "      <td>Liu</td>\n",
       "      <td>709</td>\n",
       "      <td>France</td>\n",
       "      <td>Female</td>\n",
       "      <td>36</td>\n",
       "      <td>7</td>\n",
       "      <td>0.00</td>\n",
       "      <td>1</td>\n",
       "      <td>0</td>\n",
       "      <td>1</td>\n",
       "      <td>42085.58</td>\n",
       "      <td>1</td>\n",
       "    </tr>\n",
       "    <tr>\n",
       "      <th>9998</th>\n",
       "      <td>9999</td>\n",
       "      <td>15682355</td>\n",
       "      <td>Sabbatini</td>\n",
       "      <td>772</td>\n",
       "      <td>Germany</td>\n",
       "      <td>Male</td>\n",
       "      <td>42</td>\n",
       "      <td>3</td>\n",
       "      <td>75075.31</td>\n",
       "      <td>2</td>\n",
       "      <td>1</td>\n",
       "      <td>0</td>\n",
       "      <td>92888.52</td>\n",
       "      <td>1</td>\n",
       "    </tr>\n",
       "    <tr>\n",
       "      <th>9999</th>\n",
       "      <td>10000</td>\n",
       "      <td>15628319</td>\n",
       "      <td>Walker</td>\n",
       "      <td>792</td>\n",
       "      <td>France</td>\n",
       "      <td>Female</td>\n",
       "      <td>28</td>\n",
       "      <td>4</td>\n",
       "      <td>130142.79</td>\n",
       "      <td>1</td>\n",
       "      <td>1</td>\n",
       "      <td>0</td>\n",
       "      <td>38190.78</td>\n",
       "      <td>0</td>\n",
       "    </tr>\n",
       "  </tbody>\n",
       "</table>\n",
       "<p>10000 rows × 14 columns</p>\n",
       "</div>"
      ],
      "text/plain": [
       "      RowNumber  CustomerId    Surname  CreditScore Geography  Gender  Age  \\\n",
       "0             1    15634602   Hargrave          619    France  Female   42   \n",
       "1             2    15647311       Hill          608     Spain  Female   41   \n",
       "2             3    15619304       Onio          502    France  Female   42   \n",
       "3             4    15701354       Boni          699    France  Female   39   \n",
       "4             5    15737888   Mitchell          850     Spain  Female   43   \n",
       "...         ...         ...        ...          ...       ...     ...  ...   \n",
       "9995       9996    15606229   Obijiaku          771    France    Male   39   \n",
       "9996       9997    15569892  Johnstone          516    France    Male   35   \n",
       "9997       9998    15584532        Liu          709    France  Female   36   \n",
       "9998       9999    15682355  Sabbatini          772   Germany    Male   42   \n",
       "9999      10000    15628319     Walker          792    France  Female   28   \n",
       "\n",
       "      Tenure    Balance  NumOfProducts  HasCrCard  IsActiveMember  \\\n",
       "0          2       0.00              1          1               1   \n",
       "1          1   83807.86              1          0               1   \n",
       "2          8  159660.80              3          1               0   \n",
       "3          1       0.00              2          0               0   \n",
       "4          2  125510.82              1          1               1   \n",
       "...      ...        ...            ...        ...             ...   \n",
       "9995       5       0.00              2          1               0   \n",
       "9996      10   57369.61              1          1               1   \n",
       "9997       7       0.00              1          0               1   \n",
       "9998       3   75075.31              2          1               0   \n",
       "9999       4  130142.79              1          1               0   \n",
       "\n",
       "      EstimatedSalary  Exited  \n",
       "0           101348.88       1  \n",
       "1           112542.58       0  \n",
       "2           113931.57       1  \n",
       "3            93826.63       0  \n",
       "4            79084.10       0  \n",
       "...               ...     ...  \n",
       "9995         96270.64       0  \n",
       "9996        101699.77       0  \n",
       "9997         42085.58       1  \n",
       "9998         92888.52       1  \n",
       "9999         38190.78       0  \n",
       "\n",
       "[10000 rows x 14 columns]"
      ]
     },
     "execution_count": 5,
     "metadata": {},
     "output_type": "execute_result"
    }
   ],
   "source": [
    "df"
   ]
  },
  {
   "cell_type": "markdown",
   "id": "2833c642",
   "metadata": {},
   "source": [
    "Here, we visualize the properties and its types."
   ]
  },
  {
   "cell_type": "code",
   "execution_count": 6,
   "id": "a8f23cf6",
   "metadata": {
    "scrolled": false
   },
   "outputs": [
    {
     "data": {
      "text/plain": [
       "RowNumber            int64\n",
       "CustomerId           int64\n",
       "Surname             object\n",
       "CreditScore          int64\n",
       "Geography           object\n",
       "Gender              object\n",
       "Age                  int64\n",
       "Tenure               int64\n",
       "Balance            float64\n",
       "NumOfProducts        int64\n",
       "HasCrCard            int64\n",
       "IsActiveMember       int64\n",
       "EstimatedSalary    float64\n",
       "Exited               int64\n",
       "dtype: object"
      ]
     },
     "execution_count": 6,
     "metadata": {},
     "output_type": "execute_result"
    }
   ],
   "source": [
    "df.dtypes"
   ]
  },
  {
   "cell_type": "markdown",
   "id": "41b70d02",
   "metadata": {},
   "source": [
    "Now, we graph the customer gender data using matplotlib."
   ]
  },
  {
   "cell_type": "code",
   "execution_count": 7,
   "id": "fef28d2c",
   "metadata": {},
   "outputs": [
    {
     "data": {
      "image/png": "[encoded data removed]",
      "text/plain": [
       "<Figure size 432x288 with 1 Axes>"
      ]
     },
     "metadata": {
      "needs_background": "light"
     },
     "output_type": "display_data"
    }
   ],
   "source": [
    "colors = ['#4D3425','#E4512B']\n",
    "ax = (df['Gender'].value_counts()*100.0 /len(df)).plot(kind='bar',\n",
    "stacked = True,\n",
    "rot = 0,\n",
    "color = colors)\n",
    "ax.yaxis.set_major_formatter(mtick.PercentFormatter())\n",
    "ax.set_ylabel('% Customers')\n",
    "ax.set_xlabel('Gender')\n",
    "ax.set_ylabel('% Customers')\n",
    "ax.set_title('Gender Distribution')\n",
    "\n",
    "# create a list to collect the plt.patches data\n",
    "totals = []\n",
    "\n",
    "# find the values and append to list\n",
    "for i in ax.patches:\n",
    "    totals.append(i.get_width())\n",
    "\n",
    "# set individual bar lables using above list\n",
    "total = sum(totals)\n",
    "\n",
    "for i in ax.patches:\n",
    "    # get_width pulls left or right; get_y pushes up or down\n",
    "    ax.text(i.get_x()+.15, i.get_height()-3.5, \\\n",
    "            str(round((i.get_height()/total), 1))+'%',\n",
    "            fontsize=12,\n",
    "            color='white',\n",
    "           weight = 'bold')"
   ]
  },
  {
   "cell_type": "markdown",
   "id": "ca007ce4",
   "metadata": {},
   "source": [
    "As you can see, there are a bit more of Male customers than Female customers."
   ]
  },
  {
   "cell_type": "code",
   "execution_count": 8,
   "id": "a5198f4f",
   "metadata": {},
   "outputs": [
    {
     "name": "stderr",
     "output_type": "stream",
     "text": [
      "C:\\Users\\Christian\\anaconda3\\lib\\site-packages\\seaborn\\distributions.py:2557: FutureWarning: `distplot` is a deprecated function and will be removed in a future version. Please adapt your code to use either `displot` (a figure-level function with similar flexibility) or `histplot` (an axes-level function for histograms).\n",
      "  warnings.warn(msg, FutureWarning)\n"
     ]
    },
    {
     "data": {
      "text/plain": [
       "Text(0.5, 1.0, '# of Customers by their tenure')"
      ]
     },
     "execution_count": 8,
     "metadata": {},
     "output_type": "execute_result"
    },
    {
     "data": {
      "image/png": "[encoded data removed]",
      "text/plain": [
       "<Figure size 432x288 with 1 Axes>"
      ]
     },
     "metadata": {
      "needs_background": "light"
     },
     "output_type": "display_data"
    }
   ],
   "source": [
    "ax = sns.distplot(df['Tenure'], hist=True, kde=False, \n",
    "             bins=int(180/5), color = 'darkblue', \n",
    "             hist_kws={'edgecolor':'black'},\n",
    "             kde_kws={'linewidth': 4})\n",
    "ax.set_ylabel('# of Customers')\n",
    "ax.set_xlabel('Tenure (years)')\n",
    "ax.set_title('# of Customers by their tenure')"
   ]
  },
  {
   "cell_type": "markdown",
   "id": "3824dc2b",
   "metadata": {},
   "source": [
    "For the tenure, we can observe that a lot of customers have stayed between 1 and 9 years with the bank, having few new clients and clients with 10 years tenure."
   ]
  },
  {
   "cell_type": "code",
   "execution_count": 9,
   "id": "0818b8aa",
   "metadata": {},
   "outputs": [
    {
     "data": {
      "text/plain": [
       "Text(0.5, 1.0, '# of Customers by their age')"
      ]
     },
     "execution_count": 9,
     "metadata": {},
     "output_type": "execute_result"
    },
    {
     "data": {
      "image/png": "[encoded data removed]",
      "text/plain": [
       "<Figure size 432x288 with 1 Axes>"
      ]
     },
     "metadata": {
      "needs_background": "light"
     },
     "output_type": "display_data"
    }
   ],
   "source": [
    "ax = sns.distplot(df['Age'], hist=True, kde=False, \n",
    "             bins=int(180/5), color = 'darkblue', \n",
    "             hist_kws={'edgecolor':'black'},\n",
    "             kde_kws={'linewidth': 4})\n",
    "ax.set_ylabel('# of Customers')\n",
    "ax.set_xlabel('Age (years)')\n",
    "ax.set_title('# of Customers by their age')"
   ]
  },
  {
   "cell_type": "markdown",
   "id": "444fa3ed",
   "metadata": {},
   "source": [
    "About the age, we can see that the majority of customers have between 30 and 40 years."
   ]
  },
  {
   "cell_type": "code",
   "execution_count": 10,
   "id": "1a637544",
   "metadata": {
    "scrolled": false
   },
   "outputs": [
    {
     "data": {
      "text/plain": [
       "Text(0.5, 1.0, '# of Customers by their balance')"
      ]
     },
     "execution_count": 10,
     "metadata": {},
     "output_type": "execute_result"
    },
    {
     "data": {
      "image/png": "[encoded data removed]",
      "text/plain": [
       "<Figure size 432x288 with 1 Axes>"
      ]
     },
     "metadata": {
      "needs_background": "light"
     },
     "output_type": "display_data"
    }
   ],
   "source": [
    "ax = sns.distplot(df['Balance'], hist=True, kde=False, \n",
    "             bins=int(180/5), color = 'darkblue', \n",
    "             hist_kws={'edgecolor':'black'},\n",
    "             kde_kws={'linewidth': 4})\n",
    "ax.set_ylabel('# of Customers')\n",
    "ax.set_xlabel('Balance (dollars)')\n",
    "ax.set_title('# of Customers by their balance')"
   ]
  },
  {
   "cell_type": "markdown",
   "id": "1002b924",
   "metadata": {},
   "source": [
    "About the account balance, we can notice that a lot of people have no money in their bank accounts. In the other hand, the account balance of the people who do have money in the bank is very diverse.\n",
    "Therefore, we can divide the customers in people with money in their accounts and people without funds."
   ]
  },
  {
   "cell_type": "code",
   "execution_count": 11,
   "id": "f4691d19",
   "metadata": {
    "scrolled": true
   },
   "outputs": [
    {
     "data": {
      "text/plain": [
       "Text(0.5, 1.0, '# of Customers by their estimated salary')"
      ]
     },
     "execution_count": 11,
     "metadata": {},
     "output_type": "execute_result"
    },
    {
     "data": {
      "image/png": "[encoded data removed]",
      "text/plain": [
       "<Figure size 432x288 with 1 Axes>"
      ]
     },
     "metadata": {
      "needs_background": "light"
     },
     "output_type": "display_data"
    }
   ],
   "source": [
    "ax = sns.distplot(df['EstimatedSalary'], hist=True, kde=False, \n",
    "             bins=int(180/5), color = 'darkblue', \n",
    "             hist_kws={'edgecolor':'black'},\n",
    "             kde_kws={'linewidth': 4})\n",
    "ax.set_ylabel('# of Customers')\n",
    "ax.set_xlabel('Estimated salary (dollars)')\n",
    "ax.set_title('# of Customers by their estimated salary')"
   ]
  },
  {
   "cell_type": "markdown",
   "id": "1b6bafbd",
   "metadata": {},
   "source": [
    "As you can note, the estimated salary of the customers seem to be very diverse."
   ]
  },
  {
   "cell_type": "code",
   "execution_count": 12,
   "id": "1ae477fe",
   "metadata": {},
   "outputs": [
    {
     "data": {
      "text/plain": [
       "Text(0.5, 1.0, '# of Customers by their credit score')"
      ]
     },
     "execution_count": 12,
     "metadata": {},
     "output_type": "execute_result"
    },
    {
     "data": {
      "image/png": "[encoded data removed]",
      "text/plain": [
       "<Figure size 432x288 with 1 Axes>"
      ]
     },
     "metadata": {
      "needs_background": "light"
     },
     "output_type": "display_data"
    }
   ],
   "source": [
    "ax = sns.distplot(df['CreditScore'], hist=True, kde=False, \n",
    "             bins=int(180/5), color = 'darkblue', \n",
    "             hist_kws={'edgecolor':'black'},\n",
    "             kde_kws={'linewidth': 4})\n",
    "ax.set_ylabel('# of Customers')\n",
    "ax.set_xlabel('Credit Score')\n",
    "ax.set_title('# of Customers by their credit score')"
   ]
  },
  {
   "cell_type": "markdown",
   "id": "b7c0a3bf",
   "metadata": {},
   "source": [
    "We can observe that a lot of customers have credit scores between 600 and 700, with a relatively big part having the maximum score (850)."
   ]
  },
  {
   "cell_type": "code",
   "execution_count": 14,
   "id": "a63acc4f",
   "metadata": {
    "scrolled": false
   },
   "outputs": [
    {
     "data": {
      "image/png": "[encoded data removed]",
      "text/plain": [
       "<Figure size 576x432 with 1 Axes>"
      ]
     },
     "metadata": {
      "needs_background": "light"
     },
     "output_type": "display_data"
    }
   ],
   "source": [
    "colors = ['#4D3425','#E4512B']\n",
    "ax = (df['Exited'].value_counts()*100.0 /len(df)).plot(kind='bar',\n",
    "                                                                           stacked = True,\n",
    "                                                                          rot = 0,\n",
    "                                                                          color = colors,\n",
    "                                                                         figsize = (8,6))\n",
    "ax.yaxis.set_major_formatter(mtick.PercentFormatter())\n",
    "ax.set_ylabel('% Customers',size = 14)\n",
    "ax.set_xlabel('Exited (Churn)',size = 14)\n",
    "ax.set_title('Churn Rate', size = 14)\n",
    "\n",
    "# create a list to collect the plt.patches data\n",
    "totals = []\n",
    "\n",
    "# find the values and append to list\n",
    "for i in ax.patches:\n",
    "    totals.append(i.get_width())\n",
    "\n",
    "# set individual bar lables using above list\n",
    "total = sum(totals)\n",
    "\n",
    "for i in ax.patches:\n",
    "    # get_width pulls left or right; get_y pushes up or down\n",
    "    ax.text(i.get_x()+.15, i.get_height()-4.0, \\\n",
    "            str(round((i.get_height()/total), 1))+'%',\n",
    "            fontsize=12,\n",
    "            color='white',\n",
    "           weight = 'bold',\n",
    "           size = 14)"
   ]
  },
  {
   "cell_type": "markdown",
   "id": "2342e69b",
   "metadata": {},
   "source": [
    "About the churn rate, we can observe that approximately one fifth of the clients have withdrawn their account from the bank."
   ]
  },
  {
   "cell_type": "code",
   "execution_count": 15,
   "id": "f0d2c48e",
   "metadata": {},
   "outputs": [
    {
     "data": {
      "text/plain": [
       "Text(0.5, 1.0, 'Distribution of Credit Score by churn')"
      ]
     },
     "execution_count": 15,
     "metadata": {},
     "output_type": "execute_result"
    },
    {
     "data": {
      "image/png": "[encoded data removed]",
      "text/plain": [
       "<Figure size 432x288 with 1 Axes>"
      ]
     },
     "metadata": {
      "needs_background": "light"
     },
     "output_type": "display_data"
    }
   ],
   "source": [
    "ax = sns.kdeplot(df.CreditScore[(df[\"Exited\"] == 1) ],\n",
    "                color=\"Red\", shade = True)\n",
    "ax = sns.kdeplot(df.CreditScore[(df[\"Exited\"] == 0) ],\n",
    "                ax =ax ,color=\"Blue\", shade = True)\n",
    "ax.legend([\"Churn\",\"Not Churn\"],loc='upper right')\n",
    "ax.set_title('Distribution of Credit Score by churn')"
   ]
  },
  {
   "cell_type": "markdown",
   "id": "db2f52f2",
   "metadata": {},
   "source": [
    "To notice if there is a significant correlation between churn rate and credit score, I plotted this graph that considers both properties. As you can see, there is not a big correlation, having clients of all types of credit scores staying and leaving at the bank."
   ]
  },
  {
   "cell_type": "code",
   "execution_count": 16,
   "id": "18cab23d",
   "metadata": {},
   "outputs": [
    {
     "data": {
      "text/plain": [
       "Text(0.5, 1.0, 'Distribution of Balance by churn')"
      ]
     },
     "execution_count": 16,
     "metadata": {},
     "output_type": "execute_result"
    },
    {
     "data": {
      "image/png": "[encoded data removed]",
      "text/plain": [
       "<Figure size 432x288 with 1 Axes>"
      ]
     },
     "metadata": {
      "needs_background": "light"
     },
     "output_type": "display_data"
    }
   ],
   "source": [
    "ax = sns.kdeplot(df.Balance[(df[\"Exited\"] == 1) ],\n",
    "                color=\"Red\", shade = True)\n",
    "ax = sns.kdeplot(df.Balance[(df[\"Exited\"] == 0) ],\n",
    "                ax =ax ,color=\"Blue\", shade = True)\n",
    "ax.legend([\"Churn\",\"Not Churn\"],loc='upper right')\n",
    "ax.set_title('Distribution of Balance by churn')"
   ]
  },
  {
   "cell_type": "markdown",
   "id": "de58fee0",
   "metadata": {},
   "source": [
    "In the graph above, I plotted the correlation between churn and account balance, noticing that the majority of accounts without money is staying from the bank and a large accounts with funds are being withdrawn.\n",
    "My take is that a lot of new young customers are creating new empty accounts, thus staying with the bank for the moment."
   ]
  },
  {
   "cell_type": "code",
   "execution_count": 17,
   "id": "20999572",
   "metadata": {},
   "outputs": [
    {
     "data": {
      "text/plain": [
       "Text(0.5, 1.0, 'Distribution of Age by churn')"
      ]
     },
     "execution_count": 17,
     "metadata": {},
     "output_type": "execute_result"
    },
    {
     "data": {
      "image/png": "[encoded data removed]",
      "text/plain": [
       "<Figure size 432x288 with 1 Axes>"
      ]
     },
     "metadata": {
      "needs_background": "light"
     },
     "output_type": "display_data"
    }
   ],
   "source": [
    "ax = sns.kdeplot(df.Age[(df[\"Exited\"] == 1) ],\n",
    "                color=\"Red\", shade = True)\n",
    "ax = sns.kdeplot(df.Age[(df[\"Exited\"] == 0) ],\n",
    "                ax =ax ,color=\"Blue\", shade = True)\n",
    "ax.legend([\"Churn\",\"Not Churn\"],loc='upper right')\n",
    "ax.set_title('Distribution of Age by churn')"
   ]
  },
  {
   "cell_type": "markdown",
   "id": "973125b0",
   "metadata": {},
   "source": [
    "Confirming our suspeciones, we can see that the people staying with the bank is younger and the clients withdrawing their accounts are older."
   ]
  },
  {
   "cell_type": "code",
   "execution_count": 15,
   "id": "aba593e2",
   "metadata": {},
   "outputs": [
    {
     "data": {
      "text/plain": [
       "<seaborn.axisgrid.FacetGrid at 0x17e7fe67d00>"
      ]
     },
     "execution_count": 15,
     "metadata": {},
     "output_type": "execute_result"
    },
    {
     "data": {
      "image/png": "[encoded data removed]",
      "text/plain": [
       "<Figure size 432x216 with 2 Axes>"
      ]
     },
     "metadata": {
      "needs_background": "light"
     },
     "output_type": "display_data"
    }
   ],
   "source": [
    "chart = sns.FacetGrid(df, col='Exited')\n",
    "chart.map(plt.hist, 'Tenure', bins=20)"
   ]
  },
  {
   "cell_type": "markdown",
   "id": "4263ac61",
   "metadata": {},
   "source": [
    "As you can observe above, we can see that the tenure (the years with the bank) has no significant correlation to the churn rate."
   ]
  },
  {
   "cell_type": "markdown",
   "id": "b85329a6",
   "metadata": {},
   "source": [
    "Now that we have analyzed the data, the next step is to clean our dataset, dropping rows with no value and grouping some data in brackets."
   ]
  },
  {
   "cell_type": "code",
   "execution_count": 18,
   "id": "e3791a83",
   "metadata": {},
   "outputs": [
    {
     "data": {
      "text/html": [
       "<div>\n",
       "<style scoped>\n",
       "    .dataframe tbody tr th:only-of-type {\n",
       "        vertical-align: middle;\n",
       "    }\n",
       "\n",
       "    .dataframe tbody tr th {\n",
       "        vertical-align: top;\n",
       "    }\n",
       "\n",
       "    .dataframe thead th {\n",
       "        text-align: right;\n",
       "    }\n",
       "</style>\n",
       "<table border=\"1\" class=\"dataframe\">\n",
       "  <thead>\n",
       "    <tr style=\"text-align: right;\">\n",
       "      <th></th>\n",
       "      <th>CreditScore</th>\n",
       "      <th>Geography</th>\n",
       "      <th>Gender</th>\n",
       "      <th>Age</th>\n",
       "      <th>Tenure</th>\n",
       "      <th>Balance</th>\n",
       "      <th>NumOfProducts</th>\n",
       "      <th>HasCrCard</th>\n",
       "      <th>IsActiveMember</th>\n",
       "      <th>EstimatedSalary</th>\n",
       "      <th>Exited</th>\n",
       "    </tr>\n",
       "  </thead>\n",
       "  <tbody>\n",
       "    <tr>\n",
       "      <th>0</th>\n",
       "      <td>619</td>\n",
       "      <td>France</td>\n",
       "      <td>Female</td>\n",
       "      <td>42</td>\n",
       "      <td>2</td>\n",
       "      <td>0.00</td>\n",
       "      <td>1</td>\n",
       "      <td>1</td>\n",
       "      <td>1</td>\n",
       "      <td>101348.88</td>\n",
       "      <td>1</td>\n",
       "    </tr>\n",
       "    <tr>\n",
       "      <th>1</th>\n",
       "      <td>608</td>\n",
       "      <td>Spain</td>\n",
       "      <td>Female</td>\n",
       "      <td>41</td>\n",
       "      <td>1</td>\n",
       "      <td>83807.86</td>\n",
       "      <td>1</td>\n",
       "      <td>0</td>\n",
       "      <td>1</td>\n",
       "      <td>112542.58</td>\n",
       "      <td>0</td>\n",
       "    </tr>\n",
       "    <tr>\n",
       "      <th>2</th>\n",
       "      <td>502</td>\n",
       "      <td>France</td>\n",
       "      <td>Female</td>\n",
       "      <td>42</td>\n",
       "      <td>8</td>\n",
       "      <td>159660.80</td>\n",
       "      <td>3</td>\n",
       "      <td>1</td>\n",
       "      <td>0</td>\n",
       "      <td>113931.57</td>\n",
       "      <td>1</td>\n",
       "    </tr>\n",
       "    <tr>\n",
       "      <th>3</th>\n",
       "      <td>699</td>\n",
       "      <td>France</td>\n",
       "      <td>Female</td>\n",
       "      <td>39</td>\n",
       "      <td>1</td>\n",
       "      <td>0.00</td>\n",
       "      <td>2</td>\n",
       "      <td>0</td>\n",
       "      <td>0</td>\n",
       "      <td>93826.63</td>\n",
       "      <td>0</td>\n",
       "    </tr>\n",
       "    <tr>\n",
       "      <th>4</th>\n",
       "      <td>850</td>\n",
       "      <td>Spain</td>\n",
       "      <td>Female</td>\n",
       "      <td>43</td>\n",
       "      <td>2</td>\n",
       "      <td>125510.82</td>\n",
       "      <td>1</td>\n",
       "      <td>1</td>\n",
       "      <td>1</td>\n",
       "      <td>79084.10</td>\n",
       "      <td>0</td>\n",
       "    </tr>\n",
       "    <tr>\n",
       "      <th>...</th>\n",
       "      <td>...</td>\n",
       "      <td>...</td>\n",
       "      <td>...</td>\n",
       "      <td>...</td>\n",
       "      <td>...</td>\n",
       "      <td>...</td>\n",
       "      <td>...</td>\n",
       "      <td>...</td>\n",
       "      <td>...</td>\n",
       "      <td>...</td>\n",
       "      <td>...</td>\n",
       "    </tr>\n",
       "    <tr>\n",
       "      <th>9995</th>\n",
       "      <td>771</td>\n",
       "      <td>France</td>\n",
       "      <td>Male</td>\n",
       "      <td>39</td>\n",
       "      <td>5</td>\n",
       "      <td>0.00</td>\n",
       "      <td>2</td>\n",
       "      <td>1</td>\n",
       "      <td>0</td>\n",
       "      <td>96270.64</td>\n",
       "      <td>0</td>\n",
       "    </tr>\n",
       "    <tr>\n",
       "      <th>9996</th>\n",
       "      <td>516</td>\n",
       "      <td>France</td>\n",
       "      <td>Male</td>\n",
       "      <td>35</td>\n",
       "      <td>10</td>\n",
       "      <td>57369.61</td>\n",
       "      <td>1</td>\n",
       "      <td>1</td>\n",
       "      <td>1</td>\n",
       "      <td>101699.77</td>\n",
       "      <td>0</td>\n",
       "    </tr>\n",
       "    <tr>\n",
       "      <th>9997</th>\n",
       "      <td>709</td>\n",
       "      <td>France</td>\n",
       "      <td>Female</td>\n",
       "      <td>36</td>\n",
       "      <td>7</td>\n",
       "      <td>0.00</td>\n",
       "      <td>1</td>\n",
       "      <td>0</td>\n",
       "      <td>1</td>\n",
       "      <td>42085.58</td>\n",
       "      <td>1</td>\n",
       "    </tr>\n",
       "    <tr>\n",
       "      <th>9998</th>\n",
       "      <td>772</td>\n",
       "      <td>Germany</td>\n",
       "      <td>Male</td>\n",
       "      <td>42</td>\n",
       "      <td>3</td>\n",
       "      <td>75075.31</td>\n",
       "      <td>2</td>\n",
       "      <td>1</td>\n",
       "      <td>0</td>\n",
       "      <td>92888.52</td>\n",
       "      <td>1</td>\n",
       "    </tr>\n",
       "    <tr>\n",
       "      <th>9999</th>\n",
       "      <td>792</td>\n",
       "      <td>France</td>\n",
       "      <td>Female</td>\n",
       "      <td>28</td>\n",
       "      <td>4</td>\n",
       "      <td>130142.79</td>\n",
       "      <td>1</td>\n",
       "      <td>1</td>\n",
       "      <td>0</td>\n",
       "      <td>38190.78</td>\n",
       "      <td>0</td>\n",
       "    </tr>\n",
       "  </tbody>\n",
       "</table>\n",
       "<p>10000 rows × 11 columns</p>\n",
       "</div>"
      ],
      "text/plain": [
       "      CreditScore Geography  Gender  Age  Tenure    Balance  NumOfProducts  \\\n",
       "0             619    France  Female   42       2       0.00              1   \n",
       "1             608     Spain  Female   41       1   83807.86              1   \n",
       "2             502    France  Female   42       8  159660.80              3   \n",
       "3             699    France  Female   39       1       0.00              2   \n",
       "4             850     Spain  Female   43       2  125510.82              1   \n",
       "...           ...       ...     ...  ...     ...        ...            ...   \n",
       "9995          771    France    Male   39       5       0.00              2   \n",
       "9996          516    France    Male   35      10   57369.61              1   \n",
       "9997          709    France  Female   36       7       0.00              1   \n",
       "9998          772   Germany    Male   42       3   75075.31              2   \n",
       "9999          792    France  Female   28       4  130142.79              1   \n",
       "\n",
       "      HasCrCard  IsActiveMember  EstimatedSalary  Exited  \n",
       "0             1               1        101348.88       1  \n",
       "1             0               1        112542.58       0  \n",
       "2             1               0        113931.57       1  \n",
       "3             0               0         93826.63       0  \n",
       "4             1               1         79084.10       0  \n",
       "...         ...             ...              ...     ...  \n",
       "9995          1               0         96270.64       0  \n",
       "9996          1               1        101699.77       0  \n",
       "9997          0               1         42085.58       1  \n",
       "9998          1               0         92888.52       1  \n",
       "9999          1               0         38190.78       0  \n",
       "\n",
       "[10000 rows x 11 columns]"
      ]
     },
     "execution_count": 18,
     "metadata": {},
     "output_type": "execute_result"
    }
   ],
   "source": [
    "df = df.drop(['CustomerId'], axis=1)\n",
    "df = df.drop(['RowNumber'], axis=1)\n",
    "df = df.drop(['Surname'], axis=1)\n",
    "df"
   ]
  },
  {
   "cell_type": "markdown",
   "id": "b6c69c4a",
   "metadata": {},
   "source": [
    "Rows without value, such as Customer ID, row number and surnames are dropped."
   ]
  },
  {
   "cell_type": "code",
   "execution_count": 19,
   "id": "9ef400d0",
   "metadata": {},
   "outputs": [
    {
     "name": "stdout",
     "output_type": "stream",
     "text": [
      "<class 'pandas.core.frame.DataFrame'>\n",
      "RangeIndex: 10000 entries, 0 to 9999\n",
      "Data columns (total 11 columns):\n",
      " #   Column           Non-Null Count  Dtype  \n",
      "---  ------           --------------  -----  \n",
      " 0   CreditScore      10000 non-null  int64  \n",
      " 1   Geography        10000 non-null  object \n",
      " 2   Gender           10000 non-null  object \n",
      " 3   Age              10000 non-null  int64  \n",
      " 4   Tenure           10000 non-null  int64  \n",
      " 5   Balance          10000 non-null  float64\n",
      " 6   NumOfProducts    10000 non-null  int64  \n",
      " 7   HasCrCard        10000 non-null  int64  \n",
      " 8   IsActiveMember   10000 non-null  int64  \n",
      " 9   EstimatedSalary  10000 non-null  float64\n",
      " 10  Exited           10000 non-null  int64  \n",
      "dtypes: float64(2), int64(7), object(2)\n",
      "memory usage: 859.5+ KB\n"
     ]
    }
   ],
   "source": [
    "df.info()"
   ]
  },
  {
   "cell_type": "code",
   "execution_count": 21,
   "id": "33badc82",
   "metadata": {
    "scrolled": true
   },
   "outputs": [
    {
     "data": {
      "text/html": [
       "<div>\n",
       "<style scoped>\n",
       "    .dataframe tbody tr th:only-of-type {\n",
       "        vertical-align: middle;\n",
       "    }\n",
       "\n",
       "    .dataframe tbody tr th {\n",
       "        vertical-align: top;\n",
       "    }\n",
       "\n",
       "    .dataframe thead th {\n",
       "        text-align: right;\n",
       "    }\n",
       "</style>\n",
       "<table border=\"1\" class=\"dataframe\">\n",
       "  <thead>\n",
       "    <tr style=\"text-align: right;\">\n",
       "      <th></th>\n",
       "      <th>Exited</th>\n",
       "      <th>Age</th>\n",
       "    </tr>\n",
       "  </thead>\n",
       "  <tbody>\n",
       "    <tr>\n",
       "      <th>0</th>\n",
       "      <td>0</td>\n",
       "      <td>37.408389</td>\n",
       "    </tr>\n",
       "    <tr>\n",
       "      <th>1</th>\n",
       "      <td>1</td>\n",
       "      <td>44.837997</td>\n",
       "    </tr>\n",
       "  </tbody>\n",
       "</table>\n",
       "</div>"
      ],
      "text/plain": [
       "   Exited        Age\n",
       "0       0  37.408389\n",
       "1       1  44.837997"
      ]
     },
     "execution_count": 21,
     "metadata": {},
     "output_type": "execute_result"
    }
   ],
   "source": [
    "df[[\"Exited\", \"Age\"]].groupby(['Exited'], as_index=False).mean()"
   ]
  },
  {
   "cell_type": "markdown",
   "id": "ed8d8490",
   "metadata": {},
   "source": [
    "As you can see, the average age of the clients leaving is older than the ones who are staying."
   ]
  },
  {
   "cell_type": "code",
   "execution_count": 22,
   "id": "1fc302cb",
   "metadata": {},
   "outputs": [],
   "source": [
    "df['EstSalBin'] = pd.qcut(df['EstimatedSalary'], 5)\n",
    "df['AgeBin'] = pd.cut(df['Age'].astype(int), 5)\n",
    "df['CreditScoreBin'] = pd.qcut(df['CreditScore'], 4)"
   ]
  },
  {
   "cell_type": "markdown",
   "id": "8ae3beea",
   "metadata": {},
   "source": [
    "Data with very diverse quantities is grouped in different branches for a better algorithm performance."
   ]
  },
  {
   "cell_type": "code",
   "execution_count": 23,
   "id": "803d4dcc",
   "metadata": {
    "scrolled": false
   },
   "outputs": [
    {
     "data": {
      "text/html": [
       "<div>\n",
       "<style scoped>\n",
       "    .dataframe tbody tr th:only-of-type {\n",
       "        vertical-align: middle;\n",
       "    }\n",
       "\n",
       "    .dataframe tbody tr th {\n",
       "        vertical-align: top;\n",
       "    }\n",
       "\n",
       "    .dataframe thead th {\n",
       "        text-align: right;\n",
       "    }\n",
       "</style>\n",
       "<table border=\"1\" class=\"dataframe\">\n",
       "  <thead>\n",
       "    <tr style=\"text-align: right;\">\n",
       "      <th></th>\n",
       "      <th>CreditScore</th>\n",
       "      <th>Geography</th>\n",
       "      <th>Gender</th>\n",
       "      <th>Age</th>\n",
       "      <th>Tenure</th>\n",
       "      <th>Balance</th>\n",
       "      <th>NumOfProducts</th>\n",
       "      <th>HasCrCard</th>\n",
       "      <th>IsActiveMember</th>\n",
       "      <th>EstimatedSalary</th>\n",
       "      <th>Exited</th>\n",
       "      <th>EstSalBin</th>\n",
       "      <th>AgeBin</th>\n",
       "      <th>CreditScoreBin</th>\n",
       "    </tr>\n",
       "  </thead>\n",
       "  <tbody>\n",
       "    <tr>\n",
       "      <th>0</th>\n",
       "      <td>619</td>\n",
       "      <td>France</td>\n",
       "      <td>Female</td>\n",
       "      <td>42</td>\n",
       "      <td>2</td>\n",
       "      <td>0.00</td>\n",
       "      <td>1</td>\n",
       "      <td>1</td>\n",
       "      <td>1</td>\n",
       "      <td>101348.88</td>\n",
       "      <td>1</td>\n",
       "      <td>(80238.34, 119710.038]</td>\n",
       "      <td>(32.8, 47.6]</td>\n",
       "      <td>(584.0, 652.0]</td>\n",
       "    </tr>\n",
       "    <tr>\n",
       "      <th>1</th>\n",
       "      <td>608</td>\n",
       "      <td>Spain</td>\n",
       "      <td>Female</td>\n",
       "      <td>41</td>\n",
       "      <td>1</td>\n",
       "      <td>83807.86</td>\n",
       "      <td>1</td>\n",
       "      <td>0</td>\n",
       "      <td>1</td>\n",
       "      <td>112542.58</td>\n",
       "      <td>0</td>\n",
       "      <td>(80238.34, 119710.038]</td>\n",
       "      <td>(32.8, 47.6]</td>\n",
       "      <td>(584.0, 652.0]</td>\n",
       "    </tr>\n",
       "    <tr>\n",
       "      <th>2</th>\n",
       "      <td>502</td>\n",
       "      <td>France</td>\n",
       "      <td>Female</td>\n",
       "      <td>42</td>\n",
       "      <td>8</td>\n",
       "      <td>159660.80</td>\n",
       "      <td>3</td>\n",
       "      <td>1</td>\n",
       "      <td>0</td>\n",
       "      <td>113931.57</td>\n",
       "      <td>1</td>\n",
       "      <td>(80238.34, 119710.038]</td>\n",
       "      <td>(32.8, 47.6]</td>\n",
       "      <td>(349.999, 584.0]</td>\n",
       "    </tr>\n",
       "    <tr>\n",
       "      <th>3</th>\n",
       "      <td>699</td>\n",
       "      <td>France</td>\n",
       "      <td>Female</td>\n",
       "      <td>39</td>\n",
       "      <td>1</td>\n",
       "      <td>0.00</td>\n",
       "      <td>2</td>\n",
       "      <td>0</td>\n",
       "      <td>0</td>\n",
       "      <td>93826.63</td>\n",
       "      <td>0</td>\n",
       "      <td>(80238.34, 119710.038]</td>\n",
       "      <td>(32.8, 47.6]</td>\n",
       "      <td>(652.0, 718.0]</td>\n",
       "    </tr>\n",
       "    <tr>\n",
       "      <th>4</th>\n",
       "      <td>850</td>\n",
       "      <td>Spain</td>\n",
       "      <td>Female</td>\n",
       "      <td>43</td>\n",
       "      <td>2</td>\n",
       "      <td>125510.82</td>\n",
       "      <td>1</td>\n",
       "      <td>1</td>\n",
       "      <td>1</td>\n",
       "      <td>79084.10</td>\n",
       "      <td>0</td>\n",
       "      <td>(41050.736, 80238.34]</td>\n",
       "      <td>(32.8, 47.6]</td>\n",
       "      <td>(718.0, 850.0]</td>\n",
       "    </tr>\n",
       "    <tr>\n",
       "      <th>...</th>\n",
       "      <td>...</td>\n",
       "      <td>...</td>\n",
       "      <td>...</td>\n",
       "      <td>...</td>\n",
       "      <td>...</td>\n",
       "      <td>...</td>\n",
       "      <td>...</td>\n",
       "      <td>...</td>\n",
       "      <td>...</td>\n",
       "      <td>...</td>\n",
       "      <td>...</td>\n",
       "      <td>...</td>\n",
       "      <td>...</td>\n",
       "      <td>...</td>\n",
       "    </tr>\n",
       "    <tr>\n",
       "      <th>9995</th>\n",
       "      <td>771</td>\n",
       "      <td>France</td>\n",
       "      <td>Male</td>\n",
       "      <td>39</td>\n",
       "      <td>5</td>\n",
       "      <td>0.00</td>\n",
       "      <td>2</td>\n",
       "      <td>1</td>\n",
       "      <td>0</td>\n",
       "      <td>96270.64</td>\n",
       "      <td>0</td>\n",
       "      <td>(80238.34, 119710.038]</td>\n",
       "      <td>(32.8, 47.6]</td>\n",
       "      <td>(718.0, 850.0]</td>\n",
       "    </tr>\n",
       "    <tr>\n",
       "      <th>9996</th>\n",
       "      <td>516</td>\n",
       "      <td>France</td>\n",
       "      <td>Male</td>\n",
       "      <td>35</td>\n",
       "      <td>10</td>\n",
       "      <td>57369.61</td>\n",
       "      <td>1</td>\n",
       "      <td>1</td>\n",
       "      <td>1</td>\n",
       "      <td>101699.77</td>\n",
       "      <td>0</td>\n",
       "      <td>(80238.34, 119710.038]</td>\n",
       "      <td>(32.8, 47.6]</td>\n",
       "      <td>(349.999, 584.0]</td>\n",
       "    </tr>\n",
       "    <tr>\n",
       "      <th>9997</th>\n",
       "      <td>709</td>\n",
       "      <td>France</td>\n",
       "      <td>Female</td>\n",
       "      <td>36</td>\n",
       "      <td>7</td>\n",
       "      <td>0.00</td>\n",
       "      <td>1</td>\n",
       "      <td>0</td>\n",
       "      <td>1</td>\n",
       "      <td>42085.58</td>\n",
       "      <td>1</td>\n",
       "      <td>(41050.736, 80238.34]</td>\n",
       "      <td>(32.8, 47.6]</td>\n",
       "      <td>(652.0, 718.0]</td>\n",
       "    </tr>\n",
       "    <tr>\n",
       "      <th>9998</th>\n",
       "      <td>772</td>\n",
       "      <td>Germany</td>\n",
       "      <td>Male</td>\n",
       "      <td>42</td>\n",
       "      <td>3</td>\n",
       "      <td>75075.31</td>\n",
       "      <td>2</td>\n",
       "      <td>1</td>\n",
       "      <td>0</td>\n",
       "      <td>92888.52</td>\n",
       "      <td>1</td>\n",
       "      <td>(80238.34, 119710.038]</td>\n",
       "      <td>(32.8, 47.6]</td>\n",
       "      <td>(718.0, 850.0]</td>\n",
       "    </tr>\n",
       "    <tr>\n",
       "      <th>9999</th>\n",
       "      <td>792</td>\n",
       "      <td>France</td>\n",
       "      <td>Female</td>\n",
       "      <td>28</td>\n",
       "      <td>4</td>\n",
       "      <td>130142.79</td>\n",
       "      <td>1</td>\n",
       "      <td>1</td>\n",
       "      <td>0</td>\n",
       "      <td>38190.78</td>\n",
       "      <td>0</td>\n",
       "      <td>(11.579, 41050.736]</td>\n",
       "      <td>(17.926, 32.8]</td>\n",
       "      <td>(718.0, 850.0]</td>\n",
       "    </tr>\n",
       "  </tbody>\n",
       "</table>\n",
       "<p>10000 rows × 14 columns</p>\n",
       "</div>"
      ],
      "text/plain": [
       "      CreditScore Geography  Gender  Age  Tenure    Balance  NumOfProducts  \\\n",
       "0             619    France  Female   42       2       0.00              1   \n",
       "1             608     Spain  Female   41       1   83807.86              1   \n",
       "2             502    France  Female   42       8  159660.80              3   \n",
       "3             699    France  Female   39       1       0.00              2   \n",
       "4             850     Spain  Female   43       2  125510.82              1   \n",
       "...           ...       ...     ...  ...     ...        ...            ...   \n",
       "9995          771    France    Male   39       5       0.00              2   \n",
       "9996          516    France    Male   35      10   57369.61              1   \n",
       "9997          709    France  Female   36       7       0.00              1   \n",
       "9998          772   Germany    Male   42       3   75075.31              2   \n",
       "9999          792    France  Female   28       4  130142.79              1   \n",
       "\n",
       "      HasCrCard  IsActiveMember  EstimatedSalary  Exited  \\\n",
       "0             1               1        101348.88       1   \n",
       "1             0               1        112542.58       0   \n",
       "2             1               0        113931.57       1   \n",
       "3             0               0         93826.63       0   \n",
       "4             1               1         79084.10       0   \n",
       "...         ...             ...              ...     ...   \n",
       "9995          1               0         96270.64       0   \n",
       "9996          1               1        101699.77       0   \n",
       "9997          0               1         42085.58       1   \n",
       "9998          1               0         92888.52       1   \n",
       "9999          1               0         38190.78       0   \n",
       "\n",
       "                   EstSalBin          AgeBin    CreditScoreBin  \n",
       "0     (80238.34, 119710.038]    (32.8, 47.6]    (584.0, 652.0]  \n",
       "1     (80238.34, 119710.038]    (32.8, 47.6]    (584.0, 652.0]  \n",
       "2     (80238.34, 119710.038]    (32.8, 47.6]  (349.999, 584.0]  \n",
       "3     (80238.34, 119710.038]    (32.8, 47.6]    (652.0, 718.0]  \n",
       "4      (41050.736, 80238.34]    (32.8, 47.6]    (718.0, 850.0]  \n",
       "...                      ...             ...               ...  \n",
       "9995  (80238.34, 119710.038]    (32.8, 47.6]    (718.0, 850.0]  \n",
       "9996  (80238.34, 119710.038]    (32.8, 47.6]  (349.999, 584.0]  \n",
       "9997   (41050.736, 80238.34]    (32.8, 47.6]    (652.0, 718.0]  \n",
       "9998  (80238.34, 119710.038]    (32.8, 47.6]    (718.0, 850.0]  \n",
       "9999     (11.579, 41050.736]  (17.926, 32.8]    (718.0, 850.0]  \n",
       "\n",
       "[10000 rows x 14 columns]"
      ]
     },
     "execution_count": 23,
     "metadata": {},
     "output_type": "execute_result"
    }
   ],
   "source": [
    "df"
   ]
  },
  {
   "cell_type": "code",
   "execution_count": 24,
   "id": "4ab7b455",
   "metadata": {
    "scrolled": true
   },
   "outputs": [
    {
     "data": {
      "text/html": [
       "<div>\n",
       "<style scoped>\n",
       "    .dataframe tbody tr th:only-of-type {\n",
       "        vertical-align: middle;\n",
       "    }\n",
       "\n",
       "    .dataframe tbody tr th {\n",
       "        vertical-align: top;\n",
       "    }\n",
       "\n",
       "    .dataframe thead th {\n",
       "        text-align: right;\n",
       "    }\n",
       "</style>\n",
       "<table border=\"1\" class=\"dataframe\">\n",
       "  <thead>\n",
       "    <tr style=\"text-align: right;\">\n",
       "      <th></th>\n",
       "      <th>EstSalBin</th>\n",
       "      <th>Exited</th>\n",
       "    </tr>\n",
       "  </thead>\n",
       "  <tbody>\n",
       "    <tr>\n",
       "      <th>4</th>\n",
       "      <td>(159836.726, 199992.48]</td>\n",
       "      <td>0.2155</td>\n",
       "    </tr>\n",
       "    <tr>\n",
       "      <th>2</th>\n",
       "      <td>(80238.34, 119710.038]</td>\n",
       "      <td>0.2020</td>\n",
       "    </tr>\n",
       "    <tr>\n",
       "      <th>3</th>\n",
       "      <td>(119710.038, 159836.726]</td>\n",
       "      <td>0.2020</td>\n",
       "    </tr>\n",
       "    <tr>\n",
       "      <th>0</th>\n",
       "      <td>(11.579, 41050.736]</td>\n",
       "      <td>0.1995</td>\n",
       "    </tr>\n",
       "    <tr>\n",
       "      <th>1</th>\n",
       "      <td>(41050.736, 80238.34]</td>\n",
       "      <td>0.1995</td>\n",
       "    </tr>\n",
       "  </tbody>\n",
       "</table>\n",
       "</div>"
      ],
      "text/plain": [
       "                  EstSalBin  Exited\n",
       "4   (159836.726, 199992.48]  0.2155\n",
       "2    (80238.34, 119710.038]  0.2020\n",
       "3  (119710.038, 159836.726]  0.2020\n",
       "0       (11.579, 41050.736]  0.1995\n",
       "1     (41050.736, 80238.34]  0.1995"
      ]
     },
     "execution_count": 24,
     "metadata": {},
     "output_type": "execute_result"
    }
   ],
   "source": [
    "df[[\"EstSalBin\", \"Exited\"]].groupby(['EstSalBin'], as_index=False).mean().sort_values(by='Exited', ascending=False)"
   ]
  },
  {
   "cell_type": "markdown",
   "id": "37716a55",
   "metadata": {},
   "source": [
    "There seems to be no significant correlation between estimated salary and churn rate."
   ]
  },
  {
   "cell_type": "code",
   "execution_count": 25,
   "id": "81b3a661",
   "metadata": {},
   "outputs": [
    {
     "data": {
      "text/html": [
       "<div>\n",
       "<style scoped>\n",
       "    .dataframe tbody tr th:only-of-type {\n",
       "        vertical-align: middle;\n",
       "    }\n",
       "\n",
       "    .dataframe tbody tr th {\n",
       "        vertical-align: top;\n",
       "    }\n",
       "\n",
       "    .dataframe thead th {\n",
       "        text-align: right;\n",
       "    }\n",
       "</style>\n",
       "<table border=\"1\" class=\"dataframe\">\n",
       "  <thead>\n",
       "    <tr style=\"text-align: right;\">\n",
       "      <th></th>\n",
       "      <th>AgeBin</th>\n",
       "      <th>Exited</th>\n",
       "    </tr>\n",
       "  </thead>\n",
       "  <tbody>\n",
       "    <tr>\n",
       "      <th>2</th>\n",
       "      <td>(47.6, 62.4]</td>\n",
       "      <td>0.529978</td>\n",
       "    </tr>\n",
       "    <tr>\n",
       "      <th>3</th>\n",
       "      <td>(62.4, 77.2]</td>\n",
       "      <td>0.214925</td>\n",
       "    </tr>\n",
       "    <tr>\n",
       "      <th>1</th>\n",
       "      <td>(32.8, 47.6]</td>\n",
       "      <td>0.188182</td>\n",
       "    </tr>\n",
       "    <tr>\n",
       "      <th>0</th>\n",
       "      <td>(17.926, 32.8]</td>\n",
       "      <td>0.076344</td>\n",
       "    </tr>\n",
       "    <tr>\n",
       "      <th>4</th>\n",
       "      <td>(77.2, 92.0]</td>\n",
       "      <td>0.041667</td>\n",
       "    </tr>\n",
       "  </tbody>\n",
       "</table>\n",
       "</div>"
      ],
      "text/plain": [
       "           AgeBin    Exited\n",
       "2    (47.6, 62.4]  0.529978\n",
       "3    (62.4, 77.2]  0.214925\n",
       "1    (32.8, 47.6]  0.188182\n",
       "0  (17.926, 32.8]  0.076344\n",
       "4    (77.2, 92.0]  0.041667"
      ]
     },
     "execution_count": 25,
     "metadata": {},
     "output_type": "execute_result"
    }
   ],
   "source": [
    "df[[\"AgeBin\", \"Exited\"]].groupby(['AgeBin'], as_index=False).mean().sort_values(by='Exited', ascending=False)"
   ]
  },
  {
   "cell_type": "markdown",
   "id": "d49ccde2",
   "metadata": {},
   "source": [
    "We notice that the age group with the highest churn rate is people betwen 48 and 62 years, with almost 53% of them withdrawing their accounts."
   ]
  },
  {
   "cell_type": "code",
   "execution_count": 26,
   "id": "6be998cb",
   "metadata": {},
   "outputs": [
    {
     "data": {
      "text/html": [
       "<div>\n",
       "<style scoped>\n",
       "    .dataframe tbody tr th:only-of-type {\n",
       "        vertical-align: middle;\n",
       "    }\n",
       "\n",
       "    .dataframe tbody tr th {\n",
       "        vertical-align: top;\n",
       "    }\n",
       "\n",
       "    .dataframe thead th {\n",
       "        text-align: right;\n",
       "    }\n",
       "</style>\n",
       "<table border=\"1\" class=\"dataframe\">\n",
       "  <thead>\n",
       "    <tr style=\"text-align: right;\">\n",
       "      <th></th>\n",
       "      <th>CreditScoreBin</th>\n",
       "      <th>Exited</th>\n",
       "    </tr>\n",
       "  </thead>\n",
       "  <tbody>\n",
       "    <tr>\n",
       "      <th>0</th>\n",
       "      <td>(349.999, 584.0]</td>\n",
       "      <td>0.219416</td>\n",
       "    </tr>\n",
       "    <tr>\n",
       "      <th>1</th>\n",
       "      <td>(584.0, 652.0]</td>\n",
       "      <td>0.210316</td>\n",
       "    </tr>\n",
       "    <tr>\n",
       "      <th>3</th>\n",
       "      <td>(718.0, 850.0]</td>\n",
       "      <td>0.203004</td>\n",
       "    </tr>\n",
       "    <tr>\n",
       "      <th>2</th>\n",
       "      <td>(652.0, 718.0]</td>\n",
       "      <td>0.181855</td>\n",
       "    </tr>\n",
       "  </tbody>\n",
       "</table>\n",
       "</div>"
      ],
      "text/plain": [
       "     CreditScoreBin    Exited\n",
       "0  (349.999, 584.0]  0.219416\n",
       "1    (584.0, 652.0]  0.210316\n",
       "3    (718.0, 850.0]  0.203004\n",
       "2    (652.0, 718.0]  0.181855"
      ]
     },
     "execution_count": 26,
     "metadata": {},
     "output_type": "execute_result"
    }
   ],
   "source": [
    "df[[\"CreditScoreBin\", \"Exited\"]].groupby(['CreditScoreBin'], as_index=False).mean().sort_values(by='Exited', ascending=False)"
   ]
  },
  {
   "cell_type": "code",
   "execution_count": 27,
   "id": "315c1c71",
   "metadata": {},
   "outputs": [],
   "source": [
    "df['MoneyInAccount'] = pd.Series(np.where(df.Balance == 0.00, 0, 1),\n",
    "          df.index)"
   ]
  },
  {
   "cell_type": "markdown",
   "id": "2ac62381",
   "metadata": {},
   "source": [
    "Now, we classify the customers into 2 big groups: the ones who have money in their accounts and the ones who don't."
   ]
  },
  {
   "cell_type": "code",
   "execution_count": 28,
   "id": "08f5550a",
   "metadata": {},
   "outputs": [
    {
     "data": {
      "text/html": [
       "<div>\n",
       "<style scoped>\n",
       "    .dataframe tbody tr th:only-of-type {\n",
       "        vertical-align: middle;\n",
       "    }\n",
       "\n",
       "    .dataframe tbody tr th {\n",
       "        vertical-align: top;\n",
       "    }\n",
       "\n",
       "    .dataframe thead th {\n",
       "        text-align: right;\n",
       "    }\n",
       "</style>\n",
       "<table border=\"1\" class=\"dataframe\">\n",
       "  <thead>\n",
       "    <tr style=\"text-align: right;\">\n",
       "      <th></th>\n",
       "      <th>CreditScore</th>\n",
       "      <th>Geography</th>\n",
       "      <th>Gender</th>\n",
       "      <th>Age</th>\n",
       "      <th>Tenure</th>\n",
       "      <th>Balance</th>\n",
       "      <th>NumOfProducts</th>\n",
       "      <th>HasCrCard</th>\n",
       "      <th>IsActiveMember</th>\n",
       "      <th>EstimatedSalary</th>\n",
       "      <th>Exited</th>\n",
       "      <th>EstSalBin</th>\n",
       "      <th>AgeBin</th>\n",
       "      <th>CreditScoreBin</th>\n",
       "      <th>MoneyInAccount</th>\n",
       "    </tr>\n",
       "  </thead>\n",
       "  <tbody>\n",
       "    <tr>\n",
       "      <th>0</th>\n",
       "      <td>619</td>\n",
       "      <td>France</td>\n",
       "      <td>Female</td>\n",
       "      <td>42</td>\n",
       "      <td>2</td>\n",
       "      <td>0.00</td>\n",
       "      <td>1</td>\n",
       "      <td>1</td>\n",
       "      <td>1</td>\n",
       "      <td>101348.88</td>\n",
       "      <td>1</td>\n",
       "      <td>(80238.34, 119710.038]</td>\n",
       "      <td>(32.8, 47.6]</td>\n",
       "      <td>(584.0, 652.0]</td>\n",
       "      <td>0</td>\n",
       "    </tr>\n",
       "    <tr>\n",
       "      <th>1</th>\n",
       "      <td>608</td>\n",
       "      <td>Spain</td>\n",
       "      <td>Female</td>\n",
       "      <td>41</td>\n",
       "      <td>1</td>\n",
       "      <td>83807.86</td>\n",
       "      <td>1</td>\n",
       "      <td>0</td>\n",
       "      <td>1</td>\n",
       "      <td>112542.58</td>\n",
       "      <td>0</td>\n",
       "      <td>(80238.34, 119710.038]</td>\n",
       "      <td>(32.8, 47.6]</td>\n",
       "      <td>(584.0, 652.0]</td>\n",
       "      <td>1</td>\n",
       "    </tr>\n",
       "    <tr>\n",
       "      <th>2</th>\n",
       "      <td>502</td>\n",
       "      <td>France</td>\n",
       "      <td>Female</td>\n",
       "      <td>42</td>\n",
       "      <td>8</td>\n",
       "      <td>159660.80</td>\n",
       "      <td>3</td>\n",
       "      <td>1</td>\n",
       "      <td>0</td>\n",
       "      <td>113931.57</td>\n",
       "      <td>1</td>\n",
       "      <td>(80238.34, 119710.038]</td>\n",
       "      <td>(32.8, 47.6]</td>\n",
       "      <td>(349.999, 584.0]</td>\n",
       "      <td>1</td>\n",
       "    </tr>\n",
       "    <tr>\n",
       "      <th>3</th>\n",
       "      <td>699</td>\n",
       "      <td>France</td>\n",
       "      <td>Female</td>\n",
       "      <td>39</td>\n",
       "      <td>1</td>\n",
       "      <td>0.00</td>\n",
       "      <td>2</td>\n",
       "      <td>0</td>\n",
       "      <td>0</td>\n",
       "      <td>93826.63</td>\n",
       "      <td>0</td>\n",
       "      <td>(80238.34, 119710.038]</td>\n",
       "      <td>(32.8, 47.6]</td>\n",
       "      <td>(652.0, 718.0]</td>\n",
       "      <td>0</td>\n",
       "    </tr>\n",
       "    <tr>\n",
       "      <th>4</th>\n",
       "      <td>850</td>\n",
       "      <td>Spain</td>\n",
       "      <td>Female</td>\n",
       "      <td>43</td>\n",
       "      <td>2</td>\n",
       "      <td>125510.82</td>\n",
       "      <td>1</td>\n",
       "      <td>1</td>\n",
       "      <td>1</td>\n",
       "      <td>79084.10</td>\n",
       "      <td>0</td>\n",
       "      <td>(41050.736, 80238.34]</td>\n",
       "      <td>(32.8, 47.6]</td>\n",
       "      <td>(718.0, 850.0]</td>\n",
       "      <td>1</td>\n",
       "    </tr>\n",
       "    <tr>\n",
       "      <th>...</th>\n",
       "      <td>...</td>\n",
       "      <td>...</td>\n",
       "      <td>...</td>\n",
       "      <td>...</td>\n",
       "      <td>...</td>\n",
       "      <td>...</td>\n",
       "      <td>...</td>\n",
       "      <td>...</td>\n",
       "      <td>...</td>\n",
       "      <td>...</td>\n",
       "      <td>...</td>\n",
       "      <td>...</td>\n",
       "      <td>...</td>\n",
       "      <td>...</td>\n",
       "      <td>...</td>\n",
       "    </tr>\n",
       "    <tr>\n",
       "      <th>9995</th>\n",
       "      <td>771</td>\n",
       "      <td>France</td>\n",
       "      <td>Male</td>\n",
       "      <td>39</td>\n",
       "      <td>5</td>\n",
       "      <td>0.00</td>\n",
       "      <td>2</td>\n",
       "      <td>1</td>\n",
       "      <td>0</td>\n",
       "      <td>96270.64</td>\n",
       "      <td>0</td>\n",
       "      <td>(80238.34, 119710.038]</td>\n",
       "      <td>(32.8, 47.6]</td>\n",
       "      <td>(718.0, 850.0]</td>\n",
       "      <td>0</td>\n",
       "    </tr>\n",
       "    <tr>\n",
       "      <th>9996</th>\n",
       "      <td>516</td>\n",
       "      <td>France</td>\n",
       "      <td>Male</td>\n",
       "      <td>35</td>\n",
       "      <td>10</td>\n",
       "      <td>57369.61</td>\n",
       "      <td>1</td>\n",
       "      <td>1</td>\n",
       "      <td>1</td>\n",
       "      <td>101699.77</td>\n",
       "      <td>0</td>\n",
       "      <td>(80238.34, 119710.038]</td>\n",
       "      <td>(32.8, 47.6]</td>\n",
       "      <td>(349.999, 584.0]</td>\n",
       "      <td>1</td>\n",
       "    </tr>\n",
       "    <tr>\n",
       "      <th>9997</th>\n",
       "      <td>709</td>\n",
       "      <td>France</td>\n",
       "      <td>Female</td>\n",
       "      <td>36</td>\n",
       "      <td>7</td>\n",
       "      <td>0.00</td>\n",
       "      <td>1</td>\n",
       "      <td>0</td>\n",
       "      <td>1</td>\n",
       "      <td>42085.58</td>\n",
       "      <td>1</td>\n",
       "      <td>(41050.736, 80238.34]</td>\n",
       "      <td>(32.8, 47.6]</td>\n",
       "      <td>(652.0, 718.0]</td>\n",
       "      <td>0</td>\n",
       "    </tr>\n",
       "    <tr>\n",
       "      <th>9998</th>\n",
       "      <td>772</td>\n",
       "      <td>Germany</td>\n",
       "      <td>Male</td>\n",
       "      <td>42</td>\n",
       "      <td>3</td>\n",
       "      <td>75075.31</td>\n",
       "      <td>2</td>\n",
       "      <td>1</td>\n",
       "      <td>0</td>\n",
       "      <td>92888.52</td>\n",
       "      <td>1</td>\n",
       "      <td>(80238.34, 119710.038]</td>\n",
       "      <td>(32.8, 47.6]</td>\n",
       "      <td>(718.0, 850.0]</td>\n",
       "      <td>1</td>\n",
       "    </tr>\n",
       "    <tr>\n",
       "      <th>9999</th>\n",
       "      <td>792</td>\n",
       "      <td>France</td>\n",
       "      <td>Female</td>\n",
       "      <td>28</td>\n",
       "      <td>4</td>\n",
       "      <td>130142.79</td>\n",
       "      <td>1</td>\n",
       "      <td>1</td>\n",
       "      <td>0</td>\n",
       "      <td>38190.78</td>\n",
       "      <td>0</td>\n",
       "      <td>(11.579, 41050.736]</td>\n",
       "      <td>(17.926, 32.8]</td>\n",
       "      <td>(718.0, 850.0]</td>\n",
       "      <td>1</td>\n",
       "    </tr>\n",
       "  </tbody>\n",
       "</table>\n",
       "<p>10000 rows × 15 columns</p>\n",
       "</div>"
      ],
      "text/plain": [
       "      CreditScore Geography  Gender  Age  Tenure    Balance  NumOfProducts  \\\n",
       "0             619    France  Female   42       2       0.00              1   \n",
       "1             608     Spain  Female   41       1   83807.86              1   \n",
       "2             502    France  Female   42       8  159660.80              3   \n",
       "3             699    France  Female   39       1       0.00              2   \n",
       "4             850     Spain  Female   43       2  125510.82              1   \n",
       "...           ...       ...     ...  ...     ...        ...            ...   \n",
       "9995          771    France    Male   39       5       0.00              2   \n",
       "9996          516    France    Male   35      10   57369.61              1   \n",
       "9997          709    France  Female   36       7       0.00              1   \n",
       "9998          772   Germany    Male   42       3   75075.31              2   \n",
       "9999          792    France  Female   28       4  130142.79              1   \n",
       "\n",
       "      HasCrCard  IsActiveMember  EstimatedSalary  Exited  \\\n",
       "0             1               1        101348.88       1   \n",
       "1             0               1        112542.58       0   \n",
       "2             1               0        113931.57       1   \n",
       "3             0               0         93826.63       0   \n",
       "4             1               1         79084.10       0   \n",
       "...         ...             ...              ...     ...   \n",
       "9995          1               0         96270.64       0   \n",
       "9996          1               1        101699.77       0   \n",
       "9997          0               1         42085.58       1   \n",
       "9998          1               0         92888.52       1   \n",
       "9999          1               0         38190.78       0   \n",
       "\n",
       "                   EstSalBin          AgeBin    CreditScoreBin  MoneyInAccount  \n",
       "0     (80238.34, 119710.038]    (32.8, 47.6]    (584.0, 652.0]               0  \n",
       "1     (80238.34, 119710.038]    (32.8, 47.6]    (584.0, 652.0]               1  \n",
       "2     (80238.34, 119710.038]    (32.8, 47.6]  (349.999, 584.0]               1  \n",
       "3     (80238.34, 119710.038]    (32.8, 47.6]    (652.0, 718.0]               0  \n",
       "4      (41050.736, 80238.34]    (32.8, 47.6]    (718.0, 850.0]               1  \n",
       "...                      ...             ...               ...             ...  \n",
       "9995  (80238.34, 119710.038]    (32.8, 47.6]    (718.0, 850.0]               0  \n",
       "9996  (80238.34, 119710.038]    (32.8, 47.6]  (349.999, 584.0]               1  \n",
       "9997   (41050.736, 80238.34]    (32.8, 47.6]    (652.0, 718.0]               0  \n",
       "9998  (80238.34, 119710.038]    (32.8, 47.6]    (718.0, 850.0]               1  \n",
       "9999     (11.579, 41050.736]  (17.926, 32.8]    (718.0, 850.0]               1  \n",
       "\n",
       "[10000 rows x 15 columns]"
      ]
     },
     "execution_count": 28,
     "metadata": {},
     "output_type": "execute_result"
    }
   ],
   "source": [
    "df"
   ]
  },
  {
   "cell_type": "code",
   "execution_count": 29,
   "id": "84228be6",
   "metadata": {},
   "outputs": [
    {
     "data": {
      "text/html": [
       "<div>\n",
       "<style scoped>\n",
       "    .dataframe tbody tr th:only-of-type {\n",
       "        vertical-align: middle;\n",
       "    }\n",
       "\n",
       "    .dataframe tbody tr th {\n",
       "        vertical-align: top;\n",
       "    }\n",
       "\n",
       "    .dataframe thead th {\n",
       "        text-align: right;\n",
       "    }\n",
       "</style>\n",
       "<table border=\"1\" class=\"dataframe\">\n",
       "  <thead>\n",
       "    <tr style=\"text-align: right;\">\n",
       "      <th></th>\n",
       "      <th>Geography</th>\n",
       "      <th>Gender</th>\n",
       "      <th>Tenure</th>\n",
       "      <th>NumOfProducts</th>\n",
       "      <th>HasCrCard</th>\n",
       "      <th>IsActiveMember</th>\n",
       "      <th>Exited</th>\n",
       "      <th>EstSalBin</th>\n",
       "      <th>AgeBin</th>\n",
       "      <th>CreditScoreBin</th>\n",
       "      <th>MoneyInAccount</th>\n",
       "    </tr>\n",
       "  </thead>\n",
       "  <tbody>\n",
       "    <tr>\n",
       "      <th>0</th>\n",
       "      <td>France</td>\n",
       "      <td>Female</td>\n",
       "      <td>2</td>\n",
       "      <td>1</td>\n",
       "      <td>1</td>\n",
       "      <td>1</td>\n",
       "      <td>1</td>\n",
       "      <td>(80238.34, 119710.038]</td>\n",
       "      <td>(32.8, 47.6]</td>\n",
       "      <td>(584.0, 652.0]</td>\n",
       "      <td>0</td>\n",
       "    </tr>\n",
       "    <tr>\n",
       "      <th>1</th>\n",
       "      <td>Spain</td>\n",
       "      <td>Female</td>\n",
       "      <td>1</td>\n",
       "      <td>1</td>\n",
       "      <td>0</td>\n",
       "      <td>1</td>\n",
       "      <td>0</td>\n",
       "      <td>(80238.34, 119710.038]</td>\n",
       "      <td>(32.8, 47.6]</td>\n",
       "      <td>(584.0, 652.0]</td>\n",
       "      <td>1</td>\n",
       "    </tr>\n",
       "    <tr>\n",
       "      <th>2</th>\n",
       "      <td>France</td>\n",
       "      <td>Female</td>\n",
       "      <td>8</td>\n",
       "      <td>3</td>\n",
       "      <td>1</td>\n",
       "      <td>0</td>\n",
       "      <td>1</td>\n",
       "      <td>(80238.34, 119710.038]</td>\n",
       "      <td>(32.8, 47.6]</td>\n",
       "      <td>(349.999, 584.0]</td>\n",
       "      <td>1</td>\n",
       "    </tr>\n",
       "    <tr>\n",
       "      <th>3</th>\n",
       "      <td>France</td>\n",
       "      <td>Female</td>\n",
       "      <td>1</td>\n",
       "      <td>2</td>\n",
       "      <td>0</td>\n",
       "      <td>0</td>\n",
       "      <td>0</td>\n",
       "      <td>(80238.34, 119710.038]</td>\n",
       "      <td>(32.8, 47.6]</td>\n",
       "      <td>(652.0, 718.0]</td>\n",
       "      <td>0</td>\n",
       "    </tr>\n",
       "    <tr>\n",
       "      <th>4</th>\n",
       "      <td>Spain</td>\n",
       "      <td>Female</td>\n",
       "      <td>2</td>\n",
       "      <td>1</td>\n",
       "      <td>1</td>\n",
       "      <td>1</td>\n",
       "      <td>0</td>\n",
       "      <td>(41050.736, 80238.34]</td>\n",
       "      <td>(32.8, 47.6]</td>\n",
       "      <td>(718.0, 850.0]</td>\n",
       "      <td>1</td>\n",
       "    </tr>\n",
       "    <tr>\n",
       "      <th>...</th>\n",
       "      <td>...</td>\n",
       "      <td>...</td>\n",
       "      <td>...</td>\n",
       "      <td>...</td>\n",
       "      <td>...</td>\n",
       "      <td>...</td>\n",
       "      <td>...</td>\n",
       "      <td>...</td>\n",
       "      <td>...</td>\n",
       "      <td>...</td>\n",
       "      <td>...</td>\n",
       "    </tr>\n",
       "    <tr>\n",
       "      <th>9995</th>\n",
       "      <td>France</td>\n",
       "      <td>Male</td>\n",
       "      <td>5</td>\n",
       "      <td>2</td>\n",
       "      <td>1</td>\n",
       "      <td>0</td>\n",
       "      <td>0</td>\n",
       "      <td>(80238.34, 119710.038]</td>\n",
       "      <td>(32.8, 47.6]</td>\n",
       "      <td>(718.0, 850.0]</td>\n",
       "      <td>0</td>\n",
       "    </tr>\n",
       "    <tr>\n",
       "      <th>9996</th>\n",
       "      <td>France</td>\n",
       "      <td>Male</td>\n",
       "      <td>10</td>\n",
       "      <td>1</td>\n",
       "      <td>1</td>\n",
       "      <td>1</td>\n",
       "      <td>0</td>\n",
       "      <td>(80238.34, 119710.038]</td>\n",
       "      <td>(32.8, 47.6]</td>\n",
       "      <td>(349.999, 584.0]</td>\n",
       "      <td>1</td>\n",
       "    </tr>\n",
       "    <tr>\n",
       "      <th>9997</th>\n",
       "      <td>France</td>\n",
       "      <td>Female</td>\n",
       "      <td>7</td>\n",
       "      <td>1</td>\n",
       "      <td>0</td>\n",
       "      <td>1</td>\n",
       "      <td>1</td>\n",
       "      <td>(41050.736, 80238.34]</td>\n",
       "      <td>(32.8, 47.6]</td>\n",
       "      <td>(652.0, 718.0]</td>\n",
       "      <td>0</td>\n",
       "    </tr>\n",
       "    <tr>\n",
       "      <th>9998</th>\n",
       "      <td>Germany</td>\n",
       "      <td>Male</td>\n",
       "      <td>3</td>\n",
       "      <td>2</td>\n",
       "      <td>1</td>\n",
       "      <td>0</td>\n",
       "      <td>1</td>\n",
       "      <td>(80238.34, 119710.038]</td>\n",
       "      <td>(32.8, 47.6]</td>\n",
       "      <td>(718.0, 850.0]</td>\n",
       "      <td>1</td>\n",
       "    </tr>\n",
       "    <tr>\n",
       "      <th>9999</th>\n",
       "      <td>France</td>\n",
       "      <td>Female</td>\n",
       "      <td>4</td>\n",
       "      <td>1</td>\n",
       "      <td>1</td>\n",
       "      <td>0</td>\n",
       "      <td>0</td>\n",
       "      <td>(11.579, 41050.736]</td>\n",
       "      <td>(17.926, 32.8]</td>\n",
       "      <td>(718.0, 850.0]</td>\n",
       "      <td>1</td>\n",
       "    </tr>\n",
       "  </tbody>\n",
       "</table>\n",
       "<p>10000 rows × 11 columns</p>\n",
       "</div>"
      ],
      "text/plain": [
       "     Geography  Gender  Tenure  NumOfProducts  HasCrCard  IsActiveMember  \\\n",
       "0       France  Female       2              1          1               1   \n",
       "1        Spain  Female       1              1          0               1   \n",
       "2       France  Female       8              3          1               0   \n",
       "3       France  Female       1              2          0               0   \n",
       "4        Spain  Female       2              1          1               1   \n",
       "...        ...     ...     ...            ...        ...             ...   \n",
       "9995    France    Male       5              2          1               0   \n",
       "9996    France    Male      10              1          1               1   \n",
       "9997    France  Female       7              1          0               1   \n",
       "9998   Germany    Male       3              2          1               0   \n",
       "9999    France  Female       4              1          1               0   \n",
       "\n",
       "      Exited               EstSalBin          AgeBin    CreditScoreBin  \\\n",
       "0          1  (80238.34, 119710.038]    (32.8, 47.6]    (584.0, 652.0]   \n",
       "1          0  (80238.34, 119710.038]    (32.8, 47.6]    (584.0, 652.0]   \n",
       "2          1  (80238.34, 119710.038]    (32.8, 47.6]  (349.999, 584.0]   \n",
       "3          0  (80238.34, 119710.038]    (32.8, 47.6]    (652.0, 718.0]   \n",
       "4          0   (41050.736, 80238.34]    (32.8, 47.6]    (718.0, 850.0]   \n",
       "...      ...                     ...             ...               ...   \n",
       "9995       0  (80238.34, 119710.038]    (32.8, 47.6]    (718.0, 850.0]   \n",
       "9996       0  (80238.34, 119710.038]    (32.8, 47.6]  (349.999, 584.0]   \n",
       "9997       1   (41050.736, 80238.34]    (32.8, 47.6]    (652.0, 718.0]   \n",
       "9998       1  (80238.34, 119710.038]    (32.8, 47.6]    (718.0, 850.0]   \n",
       "9999       0     (11.579, 41050.736]  (17.926, 32.8]    (718.0, 850.0]   \n",
       "\n",
       "      MoneyInAccount  \n",
       "0                  0  \n",
       "1                  1  \n",
       "2                  1  \n",
       "3                  0  \n",
       "4                  1  \n",
       "...              ...  \n",
       "9995               0  \n",
       "9996               1  \n",
       "9997               0  \n",
       "9998               1  \n",
       "9999               1  \n",
       "\n",
       "[10000 rows x 11 columns]"
      ]
     },
     "execution_count": 29,
     "metadata": {},
     "output_type": "execute_result"
    }
   ],
   "source": [
    "df = df.drop(['Balance'], axis=1)\n",
    "df = df.drop(['Age'], axis=1)\n",
    "df = df.drop(['EstimatedSalary'], axis=1)\n",
    "df = df.drop(['CreditScore'], axis=1)\n",
    "df"
   ]
  },
  {
   "cell_type": "markdown",
   "id": "f0e902e1",
   "metadata": {},
   "source": [
    "Now that we have the new rows divided in branches, we can drop the original data."
   ]
  },
  {
   "cell_type": "code",
   "execution_count": 30,
   "id": "9eaaeba8",
   "metadata": {},
   "outputs": [],
   "source": [
    "from sklearn.preprocessing import LabelEncoder\n",
    "label = LabelEncoder()"
   ]
  },
  {
   "cell_type": "markdown",
   "id": "40993d3d",
   "metadata": {},
   "source": [
    "Now, data with text properties or in branches are encoded into numbers."
   ]
  },
  {
   "cell_type": "code",
   "execution_count": 31,
   "id": "468b5383",
   "metadata": {},
   "outputs": [],
   "source": [
    "df['Gender_Code'] = label.fit_transform(df['Gender'])\n",
    "df['Geography_Code'] = label.fit_transform(df['Geography'])\n",
    "df['EstSalBin_Code'] = label.fit_transform(df['EstSalBin'])\n",
    "df['AgeBin_Code'] = label.fit_transform(df['AgeBin'])\n",
    "df['CreditScoreBin_Code'] = label.fit_transform(df['CreditScoreBin'])"
   ]
  },
  {
   "cell_type": "code",
   "execution_count": 32,
   "id": "d9743a9f",
   "metadata": {},
   "outputs": [
    {
     "data": {
      "text/html": [
       "<div>\n",
       "<style scoped>\n",
       "    .dataframe tbody tr th:only-of-type {\n",
       "        vertical-align: middle;\n",
       "    }\n",
       "\n",
       "    .dataframe tbody tr th {\n",
       "        vertical-align: top;\n",
       "    }\n",
       "\n",
       "    .dataframe thead th {\n",
       "        text-align: right;\n",
       "    }\n",
       "</style>\n",
       "<table border=\"1\" class=\"dataframe\">\n",
       "  <thead>\n",
       "    <tr style=\"text-align: right;\">\n",
       "      <th></th>\n",
       "      <th>Geography</th>\n",
       "      <th>Gender</th>\n",
       "      <th>Tenure</th>\n",
       "      <th>NumOfProducts</th>\n",
       "      <th>HasCrCard</th>\n",
       "      <th>IsActiveMember</th>\n",
       "      <th>Exited</th>\n",
       "      <th>EstSalBin</th>\n",
       "      <th>AgeBin</th>\n",
       "      <th>CreditScoreBin</th>\n",
       "      <th>MoneyInAccount</th>\n",
       "      <th>Gender_Code</th>\n",
       "      <th>Geography_Code</th>\n",
       "      <th>EstSalBin_Code</th>\n",
       "      <th>AgeBin_Code</th>\n",
       "      <th>CreditScoreBin_Code</th>\n",
       "    </tr>\n",
       "  </thead>\n",
       "  <tbody>\n",
       "    <tr>\n",
       "      <th>0</th>\n",
       "      <td>France</td>\n",
       "      <td>Female</td>\n",
       "      <td>2</td>\n",
       "      <td>1</td>\n",
       "      <td>1</td>\n",
       "      <td>1</td>\n",
       "      <td>1</td>\n",
       "      <td>(80238.34, 119710.038]</td>\n",
       "      <td>(32.8, 47.6]</td>\n",
       "      <td>(584.0, 652.0]</td>\n",
       "      <td>0</td>\n",
       "      <td>0</td>\n",
       "      <td>0</td>\n",
       "      <td>2</td>\n",
       "      <td>1</td>\n",
       "      <td>1</td>\n",
       "    </tr>\n",
       "    <tr>\n",
       "      <th>1</th>\n",
       "      <td>Spain</td>\n",
       "      <td>Female</td>\n",
       "      <td>1</td>\n",
       "      <td>1</td>\n",
       "      <td>0</td>\n",
       "      <td>1</td>\n",
       "      <td>0</td>\n",
       "      <td>(80238.34, 119710.038]</td>\n",
       "      <td>(32.8, 47.6]</td>\n",
       "      <td>(584.0, 652.0]</td>\n",
       "      <td>1</td>\n",
       "      <td>0</td>\n",
       "      <td>2</td>\n",
       "      <td>2</td>\n",
       "      <td>1</td>\n",
       "      <td>1</td>\n",
       "    </tr>\n",
       "    <tr>\n",
       "      <th>2</th>\n",
       "      <td>France</td>\n",
       "      <td>Female</td>\n",
       "      <td>8</td>\n",
       "      <td>3</td>\n",
       "      <td>1</td>\n",
       "      <td>0</td>\n",
       "      <td>1</td>\n",
       "      <td>(80238.34, 119710.038]</td>\n",
       "      <td>(32.8, 47.6]</td>\n",
       "      <td>(349.999, 584.0]</td>\n",
       "      <td>1</td>\n",
       "      <td>0</td>\n",
       "      <td>0</td>\n",
       "      <td>2</td>\n",
       "      <td>1</td>\n",
       "      <td>0</td>\n",
       "    </tr>\n",
       "    <tr>\n",
       "      <th>3</th>\n",
       "      <td>France</td>\n",
       "      <td>Female</td>\n",
       "      <td>1</td>\n",
       "      <td>2</td>\n",
       "      <td>0</td>\n",
       "      <td>0</td>\n",
       "      <td>0</td>\n",
       "      <td>(80238.34, 119710.038]</td>\n",
       "      <td>(32.8, 47.6]</td>\n",
       "      <td>(652.0, 718.0]</td>\n",
       "      <td>0</td>\n",
       "      <td>0</td>\n",
       "      <td>0</td>\n",
       "      <td>2</td>\n",
       "      <td>1</td>\n",
       "      <td>2</td>\n",
       "    </tr>\n",
       "    <tr>\n",
       "      <th>4</th>\n",
       "      <td>Spain</td>\n",
       "      <td>Female</td>\n",
       "      <td>2</td>\n",
       "      <td>1</td>\n",
       "      <td>1</td>\n",
       "      <td>1</td>\n",
       "      <td>0</td>\n",
       "      <td>(41050.736, 80238.34]</td>\n",
       "      <td>(32.8, 47.6]</td>\n",
       "      <td>(718.0, 850.0]</td>\n",
       "      <td>1</td>\n",
       "      <td>0</td>\n",
       "      <td>2</td>\n",
       "      <td>1</td>\n",
       "      <td>1</td>\n",
       "      <td>3</td>\n",
       "    </tr>\n",
       "    <tr>\n",
       "      <th>...</th>\n",
       "      <td>...</td>\n",
       "      <td>...</td>\n",
       "      <td>...</td>\n",
       "      <td>...</td>\n",
       "      <td>...</td>\n",
       "      <td>...</td>\n",
       "      <td>...</td>\n",
       "      <td>...</td>\n",
       "      <td>...</td>\n",
       "      <td>...</td>\n",
       "      <td>...</td>\n",
       "      <td>...</td>\n",
       "      <td>...</td>\n",
       "      <td>...</td>\n",
       "      <td>...</td>\n",
       "      <td>...</td>\n",
       "    </tr>\n",
       "    <tr>\n",
       "      <th>9995</th>\n",
       "      <td>France</td>\n",
       "      <td>Male</td>\n",
       "      <td>5</td>\n",
       "      <td>2</td>\n",
       "      <td>1</td>\n",
       "      <td>0</td>\n",
       "      <td>0</td>\n",
       "      <td>(80238.34, 119710.038]</td>\n",
       "      <td>(32.8, 47.6]</td>\n",
       "      <td>(718.0, 850.0]</td>\n",
       "      <td>0</td>\n",
       "      <td>1</td>\n",
       "      <td>0</td>\n",
       "      <td>2</td>\n",
       "      <td>1</td>\n",
       "      <td>3</td>\n",
       "    </tr>\n",
       "    <tr>\n",
       "      <th>9996</th>\n",
       "      <td>France</td>\n",
       "      <td>Male</td>\n",
       "      <td>10</td>\n",
       "      <td>1</td>\n",
       "      <td>1</td>\n",
       "      <td>1</td>\n",
       "      <td>0</td>\n",
       "      <td>(80238.34, 119710.038]</td>\n",
       "      <td>(32.8, 47.6]</td>\n",
       "      <td>(349.999, 584.0]</td>\n",
       "      <td>1</td>\n",
       "      <td>1</td>\n",
       "      <td>0</td>\n",
       "      <td>2</td>\n",
       "      <td>1</td>\n",
       "      <td>0</td>\n",
       "    </tr>\n",
       "    <tr>\n",
       "      <th>9997</th>\n",
       "      <td>France</td>\n",
       "      <td>Female</td>\n",
       "      <td>7</td>\n",
       "      <td>1</td>\n",
       "      <td>0</td>\n",
       "      <td>1</td>\n",
       "      <td>1</td>\n",
       "      <td>(41050.736, 80238.34]</td>\n",
       "      <td>(32.8, 47.6]</td>\n",
       "      <td>(652.0, 718.0]</td>\n",
       "      <td>0</td>\n",
       "      <td>0</td>\n",
       "      <td>0</td>\n",
       "      <td>1</td>\n",
       "      <td>1</td>\n",
       "      <td>2</td>\n",
       "    </tr>\n",
       "    <tr>\n",
       "      <th>9998</th>\n",
       "      <td>Germany</td>\n",
       "      <td>Male</td>\n",
       "      <td>3</td>\n",
       "      <td>2</td>\n",
       "      <td>1</td>\n",
       "      <td>0</td>\n",
       "      <td>1</td>\n",
       "      <td>(80238.34, 119710.038]</td>\n",
       "      <td>(32.8, 47.6]</td>\n",
       "      <td>(718.0, 850.0]</td>\n",
       "      <td>1</td>\n",
       "      <td>1</td>\n",
       "      <td>1</td>\n",
       "      <td>2</td>\n",
       "      <td>1</td>\n",
       "      <td>3</td>\n",
       "    </tr>\n",
       "    <tr>\n",
       "      <th>9999</th>\n",
       "      <td>France</td>\n",
       "      <td>Female</td>\n",
       "      <td>4</td>\n",
       "      <td>1</td>\n",
       "      <td>1</td>\n",
       "      <td>0</td>\n",
       "      <td>0</td>\n",
       "      <td>(11.579, 41050.736]</td>\n",
       "      <td>(17.926, 32.8]</td>\n",
       "      <td>(718.0, 850.0]</td>\n",
       "      <td>1</td>\n",
       "      <td>0</td>\n",
       "      <td>0</td>\n",
       "      <td>0</td>\n",
       "      <td>0</td>\n",
       "      <td>3</td>\n",
       "    </tr>\n",
       "  </tbody>\n",
       "</table>\n",
       "<p>10000 rows × 16 columns</p>\n",
       "</div>"
      ],
      "text/plain": [
       "     Geography  Gender  Tenure  NumOfProducts  HasCrCard  IsActiveMember  \\\n",
       "0       France  Female       2              1          1               1   \n",
       "1        Spain  Female       1              1          0               1   \n",
       "2       France  Female       8              3          1               0   \n",
       "3       France  Female       1              2          0               0   \n",
       "4        Spain  Female       2              1          1               1   \n",
       "...        ...     ...     ...            ...        ...             ...   \n",
       "9995    France    Male       5              2          1               0   \n",
       "9996    France    Male      10              1          1               1   \n",
       "9997    France  Female       7              1          0               1   \n",
       "9998   Germany    Male       3              2          1               0   \n",
       "9999    France  Female       4              1          1               0   \n",
       "\n",
       "      Exited               EstSalBin          AgeBin    CreditScoreBin  \\\n",
       "0          1  (80238.34, 119710.038]    (32.8, 47.6]    (584.0, 652.0]   \n",
       "1          0  (80238.34, 119710.038]    (32.8, 47.6]    (584.0, 652.0]   \n",
       "2          1  (80238.34, 119710.038]    (32.8, 47.6]  (349.999, 584.0]   \n",
       "3          0  (80238.34, 119710.038]    (32.8, 47.6]    (652.0, 718.0]   \n",
       "4          0   (41050.736, 80238.34]    (32.8, 47.6]    (718.0, 850.0]   \n",
       "...      ...                     ...             ...               ...   \n",
       "9995       0  (80238.34, 119710.038]    (32.8, 47.6]    (718.0, 850.0]   \n",
       "9996       0  (80238.34, 119710.038]    (32.8, 47.6]  (349.999, 584.0]   \n",
       "9997       1   (41050.736, 80238.34]    (32.8, 47.6]    (652.0, 718.0]   \n",
       "9998       1  (80238.34, 119710.038]    (32.8, 47.6]    (718.0, 850.0]   \n",
       "9999       0     (11.579, 41050.736]  (17.926, 32.8]    (718.0, 850.0]   \n",
       "\n",
       "      MoneyInAccount  Gender_Code  Geography_Code  EstSalBin_Code  \\\n",
       "0                  0            0               0               2   \n",
       "1                  1            0               2               2   \n",
       "2                  1            0               0               2   \n",
       "3                  0            0               0               2   \n",
       "4                  1            0               2               1   \n",
       "...              ...          ...             ...             ...   \n",
       "9995               0            1               0               2   \n",
       "9996               1            1               0               2   \n",
       "9997               0            0               0               1   \n",
       "9998               1            1               1               2   \n",
       "9999               1            0               0               0   \n",
       "\n",
       "      AgeBin_Code  CreditScoreBin_Code  \n",
       "0               1                    1  \n",
       "1               1                    1  \n",
       "2               1                    0  \n",
       "3               1                    2  \n",
       "4               1                    3  \n",
       "...           ...                  ...  \n",
       "9995            1                    3  \n",
       "9996            1                    0  \n",
       "9997            1                    2  \n",
       "9998            1                    3  \n",
       "9999            0                    3  \n",
       "\n",
       "[10000 rows x 16 columns]"
      ]
     },
     "execution_count": 32,
     "metadata": {},
     "output_type": "execute_result"
    }
   ],
   "source": [
    "df"
   ]
  },
  {
   "cell_type": "code",
   "execution_count": 33,
   "id": "c754b9b7",
   "metadata": {},
   "outputs": [],
   "source": [
    "X_df = df[['Tenure', 'NumOfProducts', 'HasCrCard', 'IsActiveMember', 'MoneyInAccount', 'Gender_Code', 'Geography_Code', 'EstSalBin_Code', 'AgeBin_Code', 'CreditScoreBin_Code']]"
   ]
  },
  {
   "cell_type": "markdown",
   "id": "1cc1fe60",
   "metadata": {},
   "source": [
    "For the X values, we select the properties that will be used."
   ]
  },
  {
   "cell_type": "code",
   "execution_count": 34,
   "id": "5989df59",
   "metadata": {},
   "outputs": [
    {
     "data": {
      "text/html": [
       "<div>\n",
       "<style scoped>\n",
       "    .dataframe tbody tr th:only-of-type {\n",
       "        vertical-align: middle;\n",
       "    }\n",
       "\n",
       "    .dataframe tbody tr th {\n",
       "        vertical-align: top;\n",
       "    }\n",
       "\n",
       "    .dataframe thead th {\n",
       "        text-align: right;\n",
       "    }\n",
       "</style>\n",
       "<table border=\"1\" class=\"dataframe\">\n",
       "  <thead>\n",
       "    <tr style=\"text-align: right;\">\n",
       "      <th></th>\n",
       "      <th>Tenure</th>\n",
       "      <th>NumOfProducts</th>\n",
       "      <th>HasCrCard</th>\n",
       "      <th>IsActiveMember</th>\n",
       "      <th>MoneyInAccount</th>\n",
       "      <th>Gender_Code</th>\n",
       "      <th>Geography_Code</th>\n",
       "      <th>EstSalBin_Code</th>\n",
       "      <th>AgeBin_Code</th>\n",
       "      <th>CreditScoreBin_Code</th>\n",
       "    </tr>\n",
       "  </thead>\n",
       "  <tbody>\n",
       "    <tr>\n",
       "      <th>0</th>\n",
       "      <td>2</td>\n",
       "      <td>1</td>\n",
       "      <td>1</td>\n",
       "      <td>1</td>\n",
       "      <td>0</td>\n",
       "      <td>0</td>\n",
       "      <td>0</td>\n",
       "      <td>2</td>\n",
       "      <td>1</td>\n",
       "      <td>1</td>\n",
       "    </tr>\n",
       "    <tr>\n",
       "      <th>1</th>\n",
       "      <td>1</td>\n",
       "      <td>1</td>\n",
       "      <td>0</td>\n",
       "      <td>1</td>\n",
       "      <td>1</td>\n",
       "      <td>0</td>\n",
       "      <td>2</td>\n",
       "      <td>2</td>\n",
       "      <td>1</td>\n",
       "      <td>1</td>\n",
       "    </tr>\n",
       "    <tr>\n",
       "      <th>2</th>\n",
       "      <td>8</td>\n",
       "      <td>3</td>\n",
       "      <td>1</td>\n",
       "      <td>0</td>\n",
       "      <td>1</td>\n",
       "      <td>0</td>\n",
       "      <td>0</td>\n",
       "      <td>2</td>\n",
       "      <td>1</td>\n",
       "      <td>0</td>\n",
       "    </tr>\n",
       "    <tr>\n",
       "      <th>3</th>\n",
       "      <td>1</td>\n",
       "      <td>2</td>\n",
       "      <td>0</td>\n",
       "      <td>0</td>\n",
       "      <td>0</td>\n",
       "      <td>0</td>\n",
       "      <td>0</td>\n",
       "      <td>2</td>\n",
       "      <td>1</td>\n",
       "      <td>2</td>\n",
       "    </tr>\n",
       "    <tr>\n",
       "      <th>4</th>\n",
       "      <td>2</td>\n",
       "      <td>1</td>\n",
       "      <td>1</td>\n",
       "      <td>1</td>\n",
       "      <td>1</td>\n",
       "      <td>0</td>\n",
       "      <td>2</td>\n",
       "      <td>1</td>\n",
       "      <td>1</td>\n",
       "      <td>3</td>\n",
       "    </tr>\n",
       "    <tr>\n",
       "      <th>...</th>\n",
       "      <td>...</td>\n",
       "      <td>...</td>\n",
       "      <td>...</td>\n",
       "      <td>...</td>\n",
       "      <td>...</td>\n",
       "      <td>...</td>\n",
       "      <td>...</td>\n",
       "      <td>...</td>\n",
       "      <td>...</td>\n",
       "      <td>...</td>\n",
       "    </tr>\n",
       "    <tr>\n",
       "      <th>9995</th>\n",
       "      <td>5</td>\n",
       "      <td>2</td>\n",
       "      <td>1</td>\n",
       "      <td>0</td>\n",
       "      <td>0</td>\n",
       "      <td>1</td>\n",
       "      <td>0</td>\n",
       "      <td>2</td>\n",
       "      <td>1</td>\n",
       "      <td>3</td>\n",
       "    </tr>\n",
       "    <tr>\n",
       "      <th>9996</th>\n",
       "      <td>10</td>\n",
       "      <td>1</td>\n",
       "      <td>1</td>\n",
       "      <td>1</td>\n",
       "      <td>1</td>\n",
       "      <td>1</td>\n",
       "      <td>0</td>\n",
       "      <td>2</td>\n",
       "      <td>1</td>\n",
       "      <td>0</td>\n",
       "    </tr>\n",
       "    <tr>\n",
       "      <th>9997</th>\n",
       "      <td>7</td>\n",
       "      <td>1</td>\n",
       "      <td>0</td>\n",
       "      <td>1</td>\n",
       "      <td>0</td>\n",
       "      <td>0</td>\n",
       "      <td>0</td>\n",
       "      <td>1</td>\n",
       "      <td>1</td>\n",
       "      <td>2</td>\n",
       "    </tr>\n",
       "    <tr>\n",
       "      <th>9998</th>\n",
       "      <td>3</td>\n",
       "      <td>2</td>\n",
       "      <td>1</td>\n",
       "      <td>0</td>\n",
       "      <td>1</td>\n",
       "      <td>1</td>\n",
       "      <td>1</td>\n",
       "      <td>2</td>\n",
       "      <td>1</td>\n",
       "      <td>3</td>\n",
       "    </tr>\n",
       "    <tr>\n",
       "      <th>9999</th>\n",
       "      <td>4</td>\n",
       "      <td>1</td>\n",
       "      <td>1</td>\n",
       "      <td>0</td>\n",
       "      <td>1</td>\n",
       "      <td>0</td>\n",
       "      <td>0</td>\n",
       "      <td>0</td>\n",
       "      <td>0</td>\n",
       "      <td>3</td>\n",
       "    </tr>\n",
       "  </tbody>\n",
       "</table>\n",
       "<p>10000 rows × 10 columns</p>\n",
       "</div>"
      ],
      "text/plain": [
       "      Tenure  NumOfProducts  HasCrCard  IsActiveMember  MoneyInAccount  \\\n",
       "0          2              1          1               1               0   \n",
       "1          1              1          0               1               1   \n",
       "2          8              3          1               0               1   \n",
       "3          1              2          0               0               0   \n",
       "4          2              1          1               1               1   \n",
       "...      ...            ...        ...             ...             ...   \n",
       "9995       5              2          1               0               0   \n",
       "9996      10              1          1               1               1   \n",
       "9997       7              1          0               1               0   \n",
       "9998       3              2          1               0               1   \n",
       "9999       4              1          1               0               1   \n",
       "\n",
       "      Gender_Code  Geography_Code  EstSalBin_Code  AgeBin_Code  \\\n",
       "0               0               0               2            1   \n",
       "1               0               2               2            1   \n",
       "2               0               0               2            1   \n",
       "3               0               0               2            1   \n",
       "4               0               2               1            1   \n",
       "...           ...             ...             ...          ...   \n",
       "9995            1               0               2            1   \n",
       "9996            1               0               2            1   \n",
       "9997            0               0               1            1   \n",
       "9998            1               1               2            1   \n",
       "9999            0               0               0            0   \n",
       "\n",
       "      CreditScoreBin_Code  \n",
       "0                       1  \n",
       "1                       1  \n",
       "2                       0  \n",
       "3                       2  \n",
       "4                       3  \n",
       "...                   ...  \n",
       "9995                    3  \n",
       "9996                    0  \n",
       "9997                    2  \n",
       "9998                    3  \n",
       "9999                    3  \n",
       "\n",
       "[10000 rows x 10 columns]"
      ]
     },
     "execution_count": 34,
     "metadata": {},
     "output_type": "execute_result"
    }
   ],
   "source": [
    "X_df"
   ]
  },
  {
   "cell_type": "code",
   "execution_count": 35,
   "id": "7c1d63d7",
   "metadata": {},
   "outputs": [],
   "source": [
    "y_df = df[['Exited']]"
   ]
  },
  {
   "cell_type": "markdown",
   "id": "ea59dd03",
   "metadata": {},
   "source": [
    "For the y array, we use the property we will be looking for, if the client has exited the bank."
   ]
  },
  {
   "cell_type": "code",
   "execution_count": 36,
   "id": "8ffd722f",
   "metadata": {},
   "outputs": [
    {
     "data": {
      "text/html": [
       "<div>\n",
       "<style scoped>\n",
       "    .dataframe tbody tr th:only-of-type {\n",
       "        vertical-align: middle;\n",
       "    }\n",
       "\n",
       "    .dataframe tbody tr th {\n",
       "        vertical-align: top;\n",
       "    }\n",
       "\n",
       "    .dataframe thead th {\n",
       "        text-align: right;\n",
       "    }\n",
       "</style>\n",
       "<table border=\"1\" class=\"dataframe\">\n",
       "  <thead>\n",
       "    <tr style=\"text-align: right;\">\n",
       "      <th></th>\n",
       "      <th>Exited</th>\n",
       "    </tr>\n",
       "  </thead>\n",
       "  <tbody>\n",
       "    <tr>\n",
       "      <th>0</th>\n",
       "      <td>1</td>\n",
       "    </tr>\n",
       "    <tr>\n",
       "      <th>1</th>\n",
       "      <td>0</td>\n",
       "    </tr>\n",
       "    <tr>\n",
       "      <th>2</th>\n",
       "      <td>1</td>\n",
       "    </tr>\n",
       "    <tr>\n",
       "      <th>3</th>\n",
       "      <td>0</td>\n",
       "    </tr>\n",
       "    <tr>\n",
       "      <th>4</th>\n",
       "      <td>0</td>\n",
       "    </tr>\n",
       "    <tr>\n",
       "      <th>...</th>\n",
       "      <td>...</td>\n",
       "    </tr>\n",
       "    <tr>\n",
       "      <th>9995</th>\n",
       "      <td>0</td>\n",
       "    </tr>\n",
       "    <tr>\n",
       "      <th>9996</th>\n",
       "      <td>0</td>\n",
       "    </tr>\n",
       "    <tr>\n",
       "      <th>9997</th>\n",
       "      <td>1</td>\n",
       "    </tr>\n",
       "    <tr>\n",
       "      <th>9998</th>\n",
       "      <td>1</td>\n",
       "    </tr>\n",
       "    <tr>\n",
       "      <th>9999</th>\n",
       "      <td>0</td>\n",
       "    </tr>\n",
       "  </tbody>\n",
       "</table>\n",
       "<p>10000 rows × 1 columns</p>\n",
       "</div>"
      ],
      "text/plain": [
       "      Exited\n",
       "0          1\n",
       "1          0\n",
       "2          1\n",
       "3          0\n",
       "4          0\n",
       "...      ...\n",
       "9995       0\n",
       "9996       0\n",
       "9997       1\n",
       "9998       1\n",
       "9999       0\n",
       "\n",
       "[10000 rows x 1 columns]"
      ]
     },
     "execution_count": 36,
     "metadata": {},
     "output_type": "execute_result"
    }
   ],
   "source": [
    "y_df"
   ]
  },
  {
   "cell_type": "markdown",
   "id": "6f52f418",
   "metadata": {},
   "source": [
    "# Logistic Regression"
   ]
  },
  {
   "cell_type": "markdown",
   "id": "081d9eee",
   "metadata": {},
   "source": [
    "Now, previous to the logistic regression algorithm, we divide the data in 2 groups: test and train, to effectively test the accuracy of each algorithm."
   ]
  },
  {
   "cell_type": "code",
   "execution_count": 37,
   "id": "7570599e",
   "metadata": {},
   "outputs": [],
   "source": [
    "from sklearn.linear_model import LogisticRegression\n",
    "from sklearn.model_selection import train_test_split\n",
    "from sklearn import metrics"
   ]
  },
  {
   "cell_type": "code",
   "execution_count": 38,
   "id": "f35a7f8d",
   "metadata": {},
   "outputs": [],
   "source": [
    "X_train, X_test, y_train, y_test = train_test_split(X_df, y_df, test_size=0.3, random_state=55)"
   ]
  },
  {
   "cell_type": "code",
   "execution_count": 39,
   "id": "36755e4c",
   "metadata": {},
   "outputs": [],
   "source": [
    "X_train_b = np.c_[X_train]\n",
    "y_train_b = np.c_[y_train]"
   ]
  },
  {
   "cell_type": "markdown",
   "id": "632ffec9",
   "metadata": {},
   "source": [
    "Now, we do the logistic regression model:"
   ]
  },
  {
   "cell_type": "code",
   "execution_count": 47,
   "id": "ddff4387",
   "metadata": {},
   "outputs": [],
   "source": [
    "model = LogisticRegression(solver='lbfgs', max_iter=60000, random_state=101)"
   ]
  },
  {
   "cell_type": "code",
   "execution_count": 48,
   "id": "380178f2",
   "metadata": {},
   "outputs": [
    {
     "data": {
      "text/plain": [
       "LogisticRegression(max_iter=60000, random_state=101)"
      ]
     },
     "execution_count": 48,
     "metadata": {},
     "output_type": "execute_result"
    }
   ],
   "source": [
    "model.fit(X_train_b, y_train_b.ravel())"
   ]
  },
  {
   "cell_type": "code",
   "execution_count": 49,
   "id": "6426e475",
   "metadata": {},
   "outputs": [],
   "source": [
    "yhat = model.predict(X_test)"
   ]
  },
  {
   "cell_type": "code",
   "execution_count": 50,
   "id": "11e9c2cc",
   "metadata": {},
   "outputs": [
    {
     "data": {
      "text/plain": [
       "(3000,)"
      ]
     },
     "execution_count": 50,
     "metadata": {},
     "output_type": "execute_result"
    }
   ],
   "source": [
    "yhat.shape"
   ]
  },
  {
   "cell_type": "code",
   "execution_count": 51,
   "id": "cfe7f12b",
   "metadata": {},
   "outputs": [],
   "source": [
    "y_test_b = np.c_[y_test].ravel()"
   ]
  },
  {
   "cell_type": "code",
   "execution_count": 52,
   "id": "dfd6bd8b",
   "metadata": {},
   "outputs": [
    {
     "data": {
      "text/plain": [
       "array([[-0.01078033, -0.01520103,  0.01116018, -0.99143725,  0.67802752,\n",
       "        -0.55659001,  0.10333282,  0.03371093,  0.90379189, -0.05314468]])"
      ]
     },
     "execution_count": 52,
     "metadata": {},
     "output_type": "execute_result"
    }
   ],
   "source": [
    "model.coef_"
   ]
  },
  {
   "cell_type": "code",
   "execution_count": 53,
   "id": "ebc5af61",
   "metadata": {},
   "outputs": [
    {
     "data": {
      "text/plain": [
       "array([-2.05471367])"
      ]
     },
     "execution_count": 53,
     "metadata": {},
     "output_type": "execute_result"
    }
   ],
   "source": [
    "model.intercept_"
   ]
  },
  {
   "cell_type": "code",
   "execution_count": 54,
   "id": "e896bec0",
   "metadata": {},
   "outputs": [],
   "source": [
    "from sklearn.model_selection import cross_val_predict\n",
    "from sklearn.metrics import confusion_matrix\n",
    "from sklearn.metrics import precision_score, recall_score, f1_score, accuracy_score"
   ]
  },
  {
   "cell_type": "code",
   "execution_count": 55,
   "id": "d06bf041",
   "metadata": {},
   "outputs": [
    {
     "data": {
      "text/plain": [
       "array([[2349,   39],\n",
       "       [ 532,   80]], dtype=int64)"
      ]
     },
     "execution_count": 55,
     "metadata": {},
     "output_type": "execute_result"
    }
   ],
   "source": [
    "confusion_matrix(y_test_b, yhat)"
   ]
  },
  {
   "cell_type": "code",
   "execution_count": 56,
   "id": "fb42f206",
   "metadata": {},
   "outputs": [
    {
     "data": {
      "text/plain": [
       "0.8096666666666666"
      ]
     },
     "execution_count": 56,
     "metadata": {},
     "output_type": "execute_result"
    }
   ],
   "source": [
    "f1_score(y_test_b, yhat, average='micro')"
   ]
  },
  {
   "cell_type": "code",
   "execution_count": 57,
   "id": "1656f053",
   "metadata": {},
   "outputs": [
    {
     "data": {
      "text/plain": [
       "0.8096666666666666"
      ]
     },
     "execution_count": 57,
     "metadata": {},
     "output_type": "execute_result"
    }
   ],
   "source": [
    "accuracy_score(y_test_b, yhat)"
   ]
  },
  {
   "cell_type": "code",
   "execution_count": 58,
   "id": "ad99a84d",
   "metadata": {
    "scrolled": true
   },
   "outputs": [
    {
     "data": {
      "text/plain": [
       "0.808"
      ]
     },
     "execution_count": 58,
     "metadata": {},
     "output_type": "execute_result"
    }
   ],
   "source": [
    "model.score(X_train_b, y_train_b)"
   ]
  },
  {
   "cell_type": "markdown",
   "id": "1efa1b00",
   "metadata": {},
   "source": [
    "For this model, we obtain an accuracy of 80.96% and a score of 80.80%.\n",
    "The difference between both metrics is that the accuracy uses the test data and score the train data."
   ]
  },
  {
   "cell_type": "code",
   "execution_count": 59,
   "id": "0e4a91a1",
   "metadata": {},
   "outputs": [
    {
     "data": {
      "text/html": [
       "<div>\n",
       "<style scoped>\n",
       "    .dataframe tbody tr th:only-of-type {\n",
       "        vertical-align: middle;\n",
       "    }\n",
       "\n",
       "    .dataframe tbody tr th {\n",
       "        vertical-align: top;\n",
       "    }\n",
       "\n",
       "    .dataframe thead th {\n",
       "        text-align: right;\n",
       "    }\n",
       "</style>\n",
       "<table border=\"1\" class=\"dataframe\">\n",
       "  <thead>\n",
       "    <tr style=\"text-align: right;\">\n",
       "      <th></th>\n",
       "      <th>Feature</th>\n",
       "      <th>Correlation</th>\n",
       "    </tr>\n",
       "  </thead>\n",
       "  <tbody>\n",
       "    <tr>\n",
       "      <th>8</th>\n",
       "      <td>CreditScoreBin_Code</td>\n",
       "      <td>0.903792</td>\n",
       "    </tr>\n",
       "    <tr>\n",
       "      <th>4</th>\n",
       "      <td>Gender_Code</td>\n",
       "      <td>0.678028</td>\n",
       "    </tr>\n",
       "    <tr>\n",
       "      <th>6</th>\n",
       "      <td>EstSalBin_Code</td>\n",
       "      <td>0.103333</td>\n",
       "    </tr>\n",
       "    <tr>\n",
       "      <th>7</th>\n",
       "      <td>AgeBin_Code</td>\n",
       "      <td>0.033711</td>\n",
       "    </tr>\n",
       "    <tr>\n",
       "      <th>2</th>\n",
       "      <td>IsActiveMember</td>\n",
       "      <td>0.011160</td>\n",
       "    </tr>\n",
       "    <tr>\n",
       "      <th>0</th>\n",
       "      <td>NumOfProducts</td>\n",
       "      <td>-0.010780</td>\n",
       "    </tr>\n",
       "    <tr>\n",
       "      <th>1</th>\n",
       "      <td>HasCrCard</td>\n",
       "      <td>-0.015201</td>\n",
       "    </tr>\n",
       "    <tr>\n",
       "      <th>5</th>\n",
       "      <td>Geography_Code</td>\n",
       "      <td>-0.556590</td>\n",
       "    </tr>\n",
       "    <tr>\n",
       "      <th>3</th>\n",
       "      <td>MoneyInAccount</td>\n",
       "      <td>-0.991437</td>\n",
       "    </tr>\n",
       "  </tbody>\n",
       "</table>\n",
       "</div>"
      ],
      "text/plain": [
       "               Feature  Correlation\n",
       "8  CreditScoreBin_Code     0.903792\n",
       "4          Gender_Code     0.678028\n",
       "6       EstSalBin_Code     0.103333\n",
       "7          AgeBin_Code     0.033711\n",
       "2       IsActiveMember     0.011160\n",
       "0        NumOfProducts    -0.010780\n",
       "1            HasCrCard    -0.015201\n",
       "5       Geography_Code    -0.556590\n",
       "3       MoneyInAccount    -0.991437"
      ]
     },
     "execution_count": 59,
     "metadata": {},
     "output_type": "execute_result"
    }
   ],
   "source": [
    "coeff_df = pd.DataFrame(X_df.columns.delete(0))\n",
    "coeff_df.columns = ['Feature']\n",
    "coeff_df[\"Correlation\"] = pd.Series(model.coef_[0])\n",
    "\n",
    "coeff_df.sort_values(by='Correlation', ascending=False)\n"
   ]
  },
  {
   "cell_type": "markdown",
   "id": "e060aac3",
   "metadata": {},
   "source": [
    "# SVM"
   ]
  },
  {
   "cell_type": "markdown",
   "id": "1ae232ce",
   "metadata": {},
   "source": [
    "Now its the time for the Support Vector Machine."
   ]
  },
  {
   "cell_type": "code",
   "execution_count": 61,
   "id": "76f0eafa",
   "metadata": {},
   "outputs": [],
   "source": [
    "from sklearn.svm import LinearSVC, SVC"
   ]
  },
  {
   "cell_type": "code",
   "execution_count": 62,
   "id": "89b98899",
   "metadata": {},
   "outputs": [],
   "source": [
    "model_svc = SVC()"
   ]
  },
  {
   "cell_type": "code",
   "execution_count": 63,
   "id": "0ac217b2",
   "metadata": {},
   "outputs": [
    {
     "data": {
      "text/plain": [
       "SVC()"
      ]
     },
     "execution_count": 63,
     "metadata": {},
     "output_type": "execute_result"
    }
   ],
   "source": [
    "model_svc.fit(X_train_b, y_train_b.ravel())"
   ]
  },
  {
   "cell_type": "code",
   "execution_count": 64,
   "id": "5af4ca77",
   "metadata": {},
   "outputs": [],
   "source": [
    "y_pred_svc = model_svc.predict(X_test)"
   ]
  },
  {
   "cell_type": "code",
   "execution_count": 65,
   "id": "797a77d4",
   "metadata": {},
   "outputs": [
    {
     "data": {
      "text/plain": [
       "(3000,)"
      ]
     },
     "execution_count": 65,
     "metadata": {},
     "output_type": "execute_result"
    }
   ],
   "source": [
    "y_pred_svc.shape"
   ]
  },
  {
   "cell_type": "code",
   "execution_count": 66,
   "id": "654499d4",
   "metadata": {},
   "outputs": [
    {
     "data": {
      "text/plain": [
       "array([[2388,    0],\n",
       "       [ 584,   28]], dtype=int64)"
      ]
     },
     "execution_count": 66,
     "metadata": {},
     "output_type": "execute_result"
    }
   ],
   "source": [
    "confusion_matrix(y_test_b, y_pred_svc)"
   ]
  },
  {
   "cell_type": "code",
   "execution_count": 67,
   "id": "5bf71700",
   "metadata": {},
   "outputs": [
    {
     "data": {
      "text/plain": [
       "0.8053333333333333"
      ]
     },
     "execution_count": 67,
     "metadata": {},
     "output_type": "execute_result"
    }
   ],
   "source": [
    "f1_score(y_test_b, y_pred_svc, average='micro')"
   ]
  },
  {
   "cell_type": "code",
   "execution_count": 68,
   "id": "c5fe21bf",
   "metadata": {},
   "outputs": [
    {
     "data": {
      "text/plain": [
       "0.8053333333333333"
      ]
     },
     "execution_count": 68,
     "metadata": {},
     "output_type": "execute_result"
    }
   ],
   "source": [
    "accuracy_score(y_test_b, y_pred_svc)"
   ]
  },
  {
   "cell_type": "code",
   "execution_count": 69,
   "id": "2b9b239b",
   "metadata": {},
   "outputs": [
    {
     "data": {
      "text/plain": [
       "0.805"
      ]
     },
     "execution_count": 69,
     "metadata": {},
     "output_type": "execute_result"
    }
   ],
   "source": [
    "model_svc.score(X_train_b, y_train_b)"
   ]
  },
  {
   "cell_type": "markdown",
   "id": "c23af777",
   "metadata": {},
   "source": [
    "After building the default model and testing the data, we obtain an accuracy of 80.53% and a score of 80.50%."
   ]
  },
  {
   "cell_type": "code",
   "execution_count": 70,
   "id": "b3031362",
   "metadata": {},
   "outputs": [],
   "source": [
    "from sklearn.model_selection import GridSearchCV"
   ]
  },
  {
   "cell_type": "markdown",
   "id": "ad124103",
   "metadata": {},
   "source": [
    "Now, we will search across different models to obtain parameters for a more accurate algorithm."
   ]
  },
  {
   "cell_type": "code",
   "execution_count": 71,
   "id": "18d73d08",
   "metadata": {},
   "outputs": [],
   "source": [
    "param_grid = { \"C\": [0.1, 1, 10], \"kernel\": [\"rbf\", \"poly\"], 'gamma': [0.1, 0.01] }"
   ]
  },
  {
   "cell_type": "code",
   "execution_count": 72,
   "id": "9612176e",
   "metadata": {},
   "outputs": [],
   "source": [
    "grid = GridSearchCV(SVC(), param_grid, verbose = 3)"
   ]
  },
  {
   "cell_type": "code",
   "execution_count": 62,
   "id": "cb7f6bd5",
   "metadata": {},
   "outputs": [
    {
     "name": "stdout",
     "output_type": "stream",
     "text": [
      "Fitting 5 folds for each of 12 candidates, totalling 60 fits\n",
      "[CV 1/5] END ...................C=0.1, gamma=0.1, kernel=rbf; total time=   1.2s\n",
      "[CV 2/5] END ...................C=0.1, gamma=0.1, kernel=rbf; total time=   1.1s\n",
      "[CV 3/5] END ...................C=0.1, gamma=0.1, kernel=rbf; total time=   1.1s\n",
      "[CV 4/5] END ...................C=0.1, gamma=0.1, kernel=rbf; total time=   1.1s\n",
      "[CV 5/5] END ...................C=0.1, gamma=0.1, kernel=rbf; total time=   1.1s\n",
      "[CV 1/5] END ..................C=0.1, gamma=0.1, kernel=poly; total time=   1.7s\n",
      "[CV 2/5] END ..................C=0.1, gamma=0.1, kernel=poly; total time=   1.5s\n",
      "[CV 3/5] END ..................C=0.1, gamma=0.1, kernel=poly; total time=   1.6s\n",
      "[CV 4/5] END ..................C=0.1, gamma=0.1, kernel=poly; total time=   1.6s\n",
      "[CV 5/5] END ..................C=0.1, gamma=0.1, kernel=poly; total time=   1.7s\n",
      "[CV 1/5] END ..................C=0.1, gamma=0.01, kernel=rbf; total time=   1.0s\n",
      "[CV 2/5] END ..................C=0.1, gamma=0.01, kernel=rbf; total time=   1.0s\n",
      "[CV 3/5] END ..................C=0.1, gamma=0.01, kernel=rbf; total time=   1.0s\n",
      "[CV 4/5] END ..................C=0.1, gamma=0.01, kernel=rbf; total time=   1.1s\n",
      "[CV 5/5] END ..................C=0.1, gamma=0.01, kernel=rbf; total time=   1.0s\n",
      "[CV 1/5] END .................C=0.1, gamma=0.01, kernel=poly; total time=   0.6s\n",
      "[CV 2/5] END .................C=0.1, gamma=0.01, kernel=poly; total time=   0.6s\n",
      "[CV 3/5] END .................C=0.1, gamma=0.01, kernel=poly; total time=   0.6s\n",
      "[CV 4/5] END .................C=0.1, gamma=0.01, kernel=poly; total time=   0.6s\n",
      "[CV 5/5] END .................C=0.1, gamma=0.01, kernel=poly; total time=   0.6s\n",
      "[CV 1/5] END .....................C=1, gamma=0.1, kernel=rbf; total time=   1.1s\n",
      "[CV 2/5] END .....................C=1, gamma=0.1, kernel=rbf; total time=   1.1s\n",
      "[CV 3/5] END .....................C=1, gamma=0.1, kernel=rbf; total time=   1.1s\n",
      "[CV 4/5] END .....................C=1, gamma=0.1, kernel=rbf; total time=   1.2s\n",
      "[CV 5/5] END .....................C=1, gamma=0.1, kernel=rbf; total time=   1.1s\n",
      "[CV 1/5] END ....................C=1, gamma=0.1, kernel=poly; total time=   8.0s\n",
      "[CV 2/5] END ....................C=1, gamma=0.1, kernel=poly; total time=   7.5s\n",
      "[CV 3/5] END ....................C=1, gamma=0.1, kernel=poly; total time=   7.1s\n",
      "[CV 4/5] END ....................C=1, gamma=0.1, kernel=poly; total time=   7.5s\n",
      "[CV 5/5] END ....................C=1, gamma=0.1, kernel=poly; total time=   8.5s\n",
      "[CV 1/5] END ....................C=1, gamma=0.01, kernel=rbf; total time=   1.4s\n",
      "[CV 2/5] END ....................C=1, gamma=0.01, kernel=rbf; total time=   1.3s\n",
      "[CV 3/5] END ....................C=1, gamma=0.01, kernel=rbf; total time=   1.3s\n",
      "[CV 4/5] END ....................C=1, gamma=0.01, kernel=rbf; total time=   1.3s\n",
      "[CV 5/5] END ....................C=1, gamma=0.01, kernel=rbf; total time=   1.4s\n",
      "[CV 1/5] END ...................C=1, gamma=0.01, kernel=poly; total time=   0.8s\n",
      "[CV 2/5] END ...................C=1, gamma=0.01, kernel=poly; total time=   0.7s\n",
      "[CV 3/5] END ...................C=1, gamma=0.01, kernel=poly; total time=   0.7s\n",
      "[CV 4/5] END ...................C=1, gamma=0.01, kernel=poly; total time=   0.8s\n",
      "[CV 5/5] END ...................C=1, gamma=0.01, kernel=poly; total time=   0.8s\n",
      "[CV 1/5] END ....................C=10, gamma=0.1, kernel=rbf; total time=   1.4s\n",
      "[CV 2/5] END ....................C=10, gamma=0.1, kernel=rbf; total time=   1.4s\n",
      "[CV 3/5] END ....................C=10, gamma=0.1, kernel=rbf; total time=   1.4s\n",
      "[CV 4/5] END ....................C=10, gamma=0.1, kernel=rbf; total time=   1.4s\n",
      "[CV 5/5] END ....................C=10, gamma=0.1, kernel=rbf; total time=   1.4s\n",
      "[CV 1/5] END ...................C=10, gamma=0.1, kernel=poly; total time= 1.3min\n",
      "[CV 2/5] END ...................C=10, gamma=0.1, kernel=poly; total time= 1.6min\n",
      "[CV 3/5] END ...................C=10, gamma=0.1, kernel=poly; total time= 1.2min\n",
      "[CV 4/5] END ...................C=10, gamma=0.1, kernel=poly; total time= 1.5min\n",
      "[CV 5/5] END ...................C=10, gamma=0.1, kernel=poly; total time= 2.2min\n",
      "[CV 1/5] END ...................C=10, gamma=0.01, kernel=rbf; total time=   1.8s\n",
      "[CV 2/5] END ...................C=10, gamma=0.01, kernel=rbf; total time=   1.5s\n",
      "[CV 3/5] END ...................C=10, gamma=0.01, kernel=rbf; total time=   1.7s\n",
      "[CV 4/5] END ...................C=10, gamma=0.01, kernel=rbf; total time=   1.7s\n",
      "[CV 5/5] END ...................C=10, gamma=0.01, kernel=rbf; total time=   1.7s\n",
      "[CV 1/5] END ..................C=10, gamma=0.01, kernel=poly; total time=   0.8s\n",
      "[CV 2/5] END ..................C=10, gamma=0.01, kernel=poly; total time=   0.9s\n",
      "[CV 3/5] END ..................C=10, gamma=0.01, kernel=poly; total time=   0.9s\n",
      "[CV 4/5] END ..................C=10, gamma=0.01, kernel=poly; total time=   0.9s\n",
      "[CV 5/5] END ..................C=10, gamma=0.01, kernel=poly; total time=   0.9s\n"
     ]
    },
    {
     "data": {
      "text/plain": [
       "GridSearchCV(estimator=SVC(),\n",
       "             param_grid={'C': [0.1, 1, 10], 'gamma': [0.1, 0.01],\n",
       "                         'kernel': ['rbf', 'poly']},\n",
       "             verbose=3)"
      ]
     },
     "execution_count": 62,
     "metadata": {},
     "output_type": "execute_result"
    }
   ],
   "source": [
    "grid.fit(X_train_b, y_train_b.ravel())"
   ]
  },
  {
   "cell_type": "code",
   "execution_count": 63,
   "id": "8b23d4d1",
   "metadata": {},
   "outputs": [
    {
     "data": {
      "text/plain": [
       "SVC(C=10, gamma=0.1)"
      ]
     },
     "execution_count": 63,
     "metadata": {},
     "output_type": "execute_result"
    }
   ],
   "source": [
    "grid.best_estimator_"
   ]
  },
  {
   "cell_type": "code",
   "execution_count": 64,
   "id": "2aaf1e07",
   "metadata": {
    "scrolled": true
   },
   "outputs": [
    {
     "data": {
      "text/plain": [
       "{'C': 10, 'gamma': 0.1, 'kernel': 'rbf'}"
      ]
     },
     "execution_count": 64,
     "metadata": {},
     "output_type": "execute_result"
    }
   ],
   "source": [
    "grid.best_params_"
   ]
  },
  {
   "cell_type": "markdown",
   "id": "3fe157f1",
   "metadata": {},
   "source": [
    "Now that the we have the best parameters, we build a new model and fit the data."
   ]
  },
  {
   "cell_type": "code",
   "execution_count": 74,
   "id": "886dec67",
   "metadata": {},
   "outputs": [],
   "source": [
    "model_svc_best = SVC(C= 10, gamma= 0.1, kernel= 'rbf')"
   ]
  },
  {
   "cell_type": "code",
   "execution_count": 75,
   "id": "2e7e9b24",
   "metadata": {},
   "outputs": [
    {
     "data": {
      "text/plain": [
       "SVC(C=10, gamma=0.1)"
      ]
     },
     "execution_count": 75,
     "metadata": {},
     "output_type": "execute_result"
    }
   ],
   "source": [
    "model_svc_best.fit(X_train_b, y_train_b.ravel())"
   ]
  },
  {
   "cell_type": "code",
   "execution_count": 76,
   "id": "a1fbd229",
   "metadata": {},
   "outputs": [],
   "source": [
    "y_pred_svc_best = model_svc_best.predict(X_test)"
   ]
  },
  {
   "cell_type": "code",
   "execution_count": 77,
   "id": "d1a1dfe5",
   "metadata": {},
   "outputs": [
    {
     "data": {
      "text/plain": [
       "array([[2333,   55],\n",
       "       [ 393,  219]], dtype=int64)"
      ]
     },
     "execution_count": 77,
     "metadata": {},
     "output_type": "execute_result"
    }
   ],
   "source": [
    "confusion_matrix(y_test_b, y_pred_svc_best)"
   ]
  },
  {
   "cell_type": "code",
   "execution_count": 78,
   "id": "7ad0084a",
   "metadata": {},
   "outputs": [
    {
     "data": {
      "text/plain": [
       "0.8506666666666667"
      ]
     },
     "execution_count": 78,
     "metadata": {},
     "output_type": "execute_result"
    }
   ],
   "source": [
    "f1_score(y_test_b, y_pred_svc_best, average='micro')"
   ]
  },
  {
   "cell_type": "code",
   "execution_count": 79,
   "id": "9c30268d",
   "metadata": {},
   "outputs": [
    {
     "data": {
      "text/plain": [
       "0.8506666666666667"
      ]
     },
     "execution_count": 79,
     "metadata": {},
     "output_type": "execute_result"
    }
   ],
   "source": [
    "accuracy_score(y_test_b, y_pred_svc_best)"
   ]
  },
  {
   "cell_type": "code",
   "execution_count": 80,
   "id": "6e1d8696",
   "metadata": {},
   "outputs": [
    {
     "data": {
      "text/plain": [
       "0.868"
      ]
     },
     "execution_count": 80,
     "metadata": {},
     "output_type": "execute_result"
    }
   ],
   "source": [
    "model_svc_best.score(X_train_b, y_train_b)"
   ]
  },
  {
   "cell_type": "markdown",
   "id": "8d12c93b",
   "metadata": {},
   "source": [
    "We can notice a big improvement, with the accuracy of 85.06% and score of 86.80%."
   ]
  },
  {
   "cell_type": "markdown",
   "id": "cd2b8c0d",
   "metadata": {},
   "source": [
    "# Decision Tree Classifier"
   ]
  },
  {
   "cell_type": "markdown",
   "id": "f77e9f79",
   "metadata": {},
   "source": [
    "Now its the turn for the decision tree classifier."
   ]
  },
  {
   "cell_type": "code",
   "execution_count": 81,
   "id": "a6ed0dc8",
   "metadata": {},
   "outputs": [],
   "source": [
    "from sklearn.tree import DecisionTreeClassifier"
   ]
  },
  {
   "cell_type": "code",
   "execution_count": 82,
   "id": "a2848307",
   "metadata": {},
   "outputs": [],
   "source": [
    "tree_clf = DecisionTreeClassifier(\n",
    "    max_depth=4, \n",
    "    random_state=2\n",
    ")"
   ]
  },
  {
   "cell_type": "code",
   "execution_count": 83,
   "id": "47636364",
   "metadata": {},
   "outputs": [
    {
     "data": {
      "text/plain": [
       "DecisionTreeClassifier(max_depth=4, random_state=2)"
      ]
     },
     "execution_count": 83,
     "metadata": {},
     "output_type": "execute_result"
    }
   ],
   "source": [
    "tree_clf.fit(X_train_b, y_train_b.ravel())"
   ]
  },
  {
   "cell_type": "code",
   "execution_count": 84,
   "id": "8182bc94",
   "metadata": {},
   "outputs": [
    {
     "data": {
      "image/png": "[encoded data removed]",
      "text/plain": [
       "<Figure size 1080x1080 with 1 Axes>"
      ]
     },
     "metadata": {
      "needs_background": "light"
     },
     "output_type": "display_data"
    }
   ],
   "source": [
    "from sklearn import tree\n",
    "\n",
    "plt.figure(figsize=(15, 15))\n",
    "tree.plot_tree(tree_clf)\n",
    "plt.show()"
   ]
  },
  {
   "cell_type": "code",
   "execution_count": 85,
   "id": "c4d547f2",
   "metadata": {},
   "outputs": [],
   "source": [
    "y_pred_tree = tree_clf.predict(X_test)"
   ]
  },
  {
   "cell_type": "code",
   "execution_count": 86,
   "id": "87367367",
   "metadata": {},
   "outputs": [
    {
     "data": {
      "text/plain": [
       "array([[2356,   32],\n",
       "       [ 426,  186]], dtype=int64)"
      ]
     },
     "execution_count": 86,
     "metadata": {},
     "output_type": "execute_result"
    }
   ],
   "source": [
    "confusion_matrix(y_test_b, y_pred_tree)"
   ]
  },
  {
   "cell_type": "code",
   "execution_count": 87,
   "id": "71f87078",
   "metadata": {},
   "outputs": [
    {
     "data": {
      "text/plain": [
       "0.8473333333333334"
      ]
     },
     "execution_count": 87,
     "metadata": {},
     "output_type": "execute_result"
    }
   ],
   "source": [
    "f1_score(y_test_b, y_pred_tree, average='micro')"
   ]
  },
  {
   "cell_type": "code",
   "execution_count": 88,
   "id": "ce969f3a",
   "metadata": {},
   "outputs": [
    {
     "data": {
      "text/plain": [
       "0.8473333333333334"
      ]
     },
     "execution_count": 88,
     "metadata": {},
     "output_type": "execute_result"
    }
   ],
   "source": [
    "accuracy_score(y_test_b, y_pred_tree)"
   ]
  },
  {
   "cell_type": "code",
   "execution_count": 89,
   "id": "ebe4df9a",
   "metadata": {},
   "outputs": [
    {
     "data": {
      "text/plain": [
       "0.8487142857142858"
      ]
     },
     "execution_count": 89,
     "metadata": {},
     "output_type": "execute_result"
    }
   ],
   "source": [
    "tree_clf.score(X_train_b, y_train_b)"
   ]
  },
  {
   "cell_type": "markdown",
   "id": "a98470b5",
   "metadata": {},
   "source": [
    "After fitting the data and plotting the tree, we obtain an accuracy of 84.73% and a score of 84.87%."
   ]
  },
  {
   "cell_type": "code",
   "execution_count": 90,
   "id": "c5c6a3ce",
   "metadata": {},
   "outputs": [],
   "source": [
    "param_grid = { \"max_depth\": [1, 2, 3, 4, 5, 6, 7, 8]}"
   ]
  },
  {
   "cell_type": "markdown",
   "id": "60c8e3eb",
   "metadata": {},
   "source": [
    "Now, we will search for a better number of tree depth to improve the algorithm."
   ]
  },
  {
   "cell_type": "code",
   "execution_count": 91,
   "id": "50e8b85f",
   "metadata": {},
   "outputs": [],
   "source": [
    "grid = GridSearchCV(DecisionTreeClassifier(random_state=2), param_grid, verbose = 3)"
   ]
  },
  {
   "cell_type": "code",
   "execution_count": 92,
   "id": "0c5affd1",
   "metadata": {},
   "outputs": [
    {
     "name": "stdout",
     "output_type": "stream",
     "text": [
      "Fitting 5 folds for each of 8 candidates, totalling 40 fits\n",
      "[CV 1/5] END ....................................max_depth=1; total time=   0.0s\n",
      "[CV 2/5] END ....................................max_depth=1; total time=   0.0s\n",
      "[CV 3/5] END ....................................max_depth=1; total time=   0.0s\n",
      "[CV 4/5] END ....................................max_depth=1; total time=   0.0s\n",
      "[CV 5/5] END ....................................max_depth=1; total time=   0.0s\n",
      "[CV 1/5] END ....................................max_depth=2; total time=   0.0s\n",
      "[CV 2/5] END ....................................max_depth=2; total time=   0.0s\n",
      "[CV 3/5] END ....................................max_depth=2; total time=   0.0s\n",
      "[CV 4/5] END ....................................max_depth=2; total time=   0.0s\n",
      "[CV 5/5] END ....................................max_depth=2; total time=   0.0s\n",
      "[CV 1/5] END ....................................max_depth=3; total time=   0.0s\n",
      "[CV 2/5] END ....................................max_depth=3; total time=   0.0s\n",
      "[CV 3/5] END ....................................max_depth=3; total time=   0.0s\n",
      "[CV 4/5] END ....................................max_depth=3; total time=   0.0s\n",
      "[CV 5/5] END ....................................max_depth=3; total time=   0.0s\n",
      "[CV 1/5] END ....................................max_depth=4; total time=   0.0s\n",
      "[CV 2/5] END ....................................max_depth=4; total time=   0.0s\n",
      "[CV 3/5] END ....................................max_depth=4; total time=   0.0s\n",
      "[CV 4/5] END ....................................max_depth=4; total time=   0.0s\n",
      "[CV 5/5] END ....................................max_depth=4; total time=   0.0s\n",
      "[CV 1/5] END ....................................max_depth=5; total time=   0.0s\n",
      "[CV 2/5] END ....................................max_depth=5; total time=   0.0s\n",
      "[CV 3/5] END ....................................max_depth=5; total time=   0.0s\n",
      "[CV 4/5] END ....................................max_depth=5; total time=   0.0s\n",
      "[CV 5/5] END ....................................max_depth=5; total time=   0.0s\n",
      "[CV 1/5] END ....................................max_depth=6; total time=   0.0s\n",
      "[CV 2/5] END ....................................max_depth=6; total time=   0.0s\n",
      "[CV 3/5] END ....................................max_depth=6; total time=   0.0s\n",
      "[CV 4/5] END ....................................max_depth=6; total time=   0.0s\n",
      "[CV 5/5] END ....................................max_depth=6; total time=   0.0s\n",
      "[CV 1/5] END ....................................max_depth=7; total time=   0.0s\n",
      "[CV 2/5] END ....................................max_depth=7; total time=   0.0s\n",
      "[CV 3/5] END ....................................max_depth=7; total time=   0.0s\n",
      "[CV 4/5] END ....................................max_depth=7; total time=   0.0s\n",
      "[CV 5/5] END ....................................max_depth=7; total time=   0.0s\n",
      "[CV 1/5] END ....................................max_depth=8; total time=   0.0s\n",
      "[CV 2/5] END ....................................max_depth=8; total time=   0.0s\n",
      "[CV 3/5] END ....................................max_depth=8; total time=   0.0s\n",
      "[CV 4/5] END ....................................max_depth=8; total time=   0.0s\n",
      "[CV 5/5] END ....................................max_depth=8; total time=   0.0s\n"
     ]
    },
    {
     "data": {
      "text/plain": [
       "GridSearchCV(estimator=DecisionTreeClassifier(random_state=2),\n",
       "             param_grid={'max_depth': [1, 2, 3, 4, 5, 6, 7, 8]}, verbose=3)"
      ]
     },
     "execution_count": 92,
     "metadata": {},
     "output_type": "execute_result"
    }
   ],
   "source": [
    "grid.fit(X_train_b, y_train_b.ravel())"
   ]
  },
  {
   "cell_type": "code",
   "execution_count": 93,
   "id": "6e5c6f10",
   "metadata": {},
   "outputs": [
    {
     "data": {
      "text/plain": [
       "DecisionTreeClassifier(max_depth=5, random_state=2)"
      ]
     },
     "execution_count": 93,
     "metadata": {},
     "output_type": "execute_result"
    }
   ],
   "source": [
    "grid.best_estimator_"
   ]
  },
  {
   "cell_type": "code",
   "execution_count": 94,
   "id": "d98a1982",
   "metadata": {},
   "outputs": [
    {
     "data": {
      "text/plain": [
       "{'max_depth': 5}"
      ]
     },
     "execution_count": 94,
     "metadata": {},
     "output_type": "execute_result"
    }
   ],
   "source": [
    "grid.best_params_"
   ]
  },
  {
   "cell_type": "markdown",
   "id": "35b924ce",
   "metadata": {},
   "source": [
    "It seems that the best number of maximum depth is 5, one more than the 4 we previosly had."
   ]
  },
  {
   "cell_type": "code",
   "execution_count": 95,
   "id": "24757848",
   "metadata": {},
   "outputs": [],
   "source": [
    "tree_clf_best = DecisionTreeClassifier(\n",
    "    max_depth=5, \n",
    "    random_state=2\n",
    ")"
   ]
  },
  {
   "cell_type": "code",
   "execution_count": 96,
   "id": "c9a113c9",
   "metadata": {},
   "outputs": [
    {
     "data": {
      "text/plain": [
       "DecisionTreeClassifier(max_depth=5, random_state=2)"
      ]
     },
     "execution_count": 96,
     "metadata": {},
     "output_type": "execute_result"
    }
   ],
   "source": [
    "tree_clf_best.fit(X_train_b, y_train_b.ravel())"
   ]
  },
  {
   "cell_type": "code",
   "execution_count": 97,
   "id": "962b205f",
   "metadata": {},
   "outputs": [
    {
     "data": {
      "image/png": "[encoded data removed]",
      "text/plain": [
       "<Figure size 1080x1080 with 1 Axes>"
      ]
     },
     "metadata": {
      "needs_background": "light"
     },
     "output_type": "display_data"
    }
   ],
   "source": [
    "plt.figure(figsize=(15, 15))\n",
    "tree.plot_tree(tree_clf_best)\n",
    "plt.show()"
   ]
  },
  {
   "cell_type": "code",
   "execution_count": 98,
   "id": "e4766a3c",
   "metadata": {},
   "outputs": [],
   "source": [
    "y_pred_tree_best = tree_clf_best.predict(X_test)"
   ]
  },
  {
   "cell_type": "code",
   "execution_count": 99,
   "id": "f8dbac12",
   "metadata": {},
   "outputs": [
    {
     "data": {
      "text/plain": [
       "array([[2350,   38],\n",
       "       [ 403,  209]], dtype=int64)"
      ]
     },
     "execution_count": 99,
     "metadata": {},
     "output_type": "execute_result"
    }
   ],
   "source": [
    "confusion_matrix(y_test_b, y_pred_tree_best)"
   ]
  },
  {
   "cell_type": "code",
   "execution_count": 100,
   "id": "79af4a95",
   "metadata": {},
   "outputs": [
    {
     "data": {
      "text/plain": [
       "0.853"
      ]
     },
     "execution_count": 100,
     "metadata": {},
     "output_type": "execute_result"
    }
   ],
   "source": [
    "f1_score(y_test_b, y_pred_tree_best, average='micro')"
   ]
  },
  {
   "cell_type": "code",
   "execution_count": 101,
   "id": "b981f630",
   "metadata": {},
   "outputs": [
    {
     "data": {
      "text/plain": [
       "0.853"
      ]
     },
     "execution_count": 101,
     "metadata": {},
     "output_type": "execute_result"
    }
   ],
   "source": [
    "accuracy_score(y_test_b, y_pred_tree_best)"
   ]
  },
  {
   "cell_type": "code",
   "execution_count": 102,
   "id": "acca969f",
   "metadata": {},
   "outputs": [
    {
     "data": {
      "text/plain": [
       "0.8522857142857143"
      ]
     },
     "execution_count": 102,
     "metadata": {},
     "output_type": "execute_result"
    }
   ],
   "source": [
    "tree_clf_best.score(X_train_b, y_train_b)"
   ]
  },
  {
   "cell_type": "markdown",
   "id": "644f0bf6",
   "metadata": {},
   "source": [
    "After fitting the data with the new parameter, we obtain an accuracy of 85.30% and a score of 85.22%."
   ]
  },
  {
   "cell_type": "markdown",
   "id": "5db3fdbe",
   "metadata": {},
   "source": [
    "# Results"
   ]
  },
  {
   "cell_type": "markdown",
   "id": "27911cda",
   "metadata": {},
   "source": [
    "### Best method: Decision Tree Classifier w/ 5 depth"
   ]
  },
  {
   "cell_type": "markdown",
   "id": "50c5ca0f",
   "metadata": {},
   "source": [
    "#### Accuracy: 85.3%\n",
    "#### Score: 85.22%"
   ]
  },
  {
   "cell_type": "markdown",
   "id": "771efc73",
   "metadata": {},
   "source": [
    "The best method for solving this churn rate problem was the Decision Tree Classifier with 5 max depth. Despite having lower score than the enhanced SVM, the decision tree has a better accuracy predicting the test data. Being accuracy the best measure to rate the algorithms, Decision Tree is the winner."
   ]
  },
  {
   "cell_type": "markdown",
   "id": "73ca129a",
   "metadata": {},
   "source": [
    "# Predict clients churn"
   ]
  },
  {
   "cell_type": "markdown",
   "id": "1c23129b",
   "metadata": {},
   "source": [
    "Now that we have the models, we can test them by predicting a few particular customer cases."
   ]
  },
  {
   "cell_type": "code",
   "execution_count": 111,
   "id": "0572c7c3",
   "metadata": {},
   "outputs": [],
   "source": [
    "Clientes = []\n",
    "Clientes.append([4, 2, 1, 1, 1, 1, 2, 2, 0, 0])\n",
    "#4 years tenure\n",
    "#2 products\n",
    "#1 has credit card\n",
    "#1 is active member\n",
    "#1 has money in account\n",
    "#1 male\n",
    "#2 from Spain\n",
    "#2 estimated salary from 80,238 to 119,710\n",
    "#0 age from 17 to 32 (young)\n",
    "#0 Credit Score from 350 to 584 (low)"
   ]
  },
  {
   "cell_type": "markdown",
   "id": "11017818",
   "metadata": {},
   "source": [
    "For the first dummy client, we have a young spanish male who has a credit card and uses 2 bank products, he is an active member of the bank and has an estimated salary of $100,000~. He has been client for 4 years and has a current low credit score."
   ]
  },
  {
   "cell_type": "code",
   "execution_count": 112,
   "id": "4b2f6c2e",
   "metadata": {},
   "outputs": [],
   "source": [
    "Clientes.append([1, 0, 0, 0, 0, 1, 0, 0, 3, 0])\n",
    "#1 years tenure\n",
    "#0 products\n",
    "#0 has credit card\n",
    "#0 is active member\n",
    "#0 has money in account\n",
    "#1 male\n",
    "#0 from France\n",
    "#0 estimated salary from 11,500 to 41,050\n",
    "#3 age from 62 to 77 (2nd oldest gap)\n",
    "#0 Credit Score from 350 to 584 (low)"
   ]
  },
  {
   "cell_type": "markdown",
   "id": "6808813e",
   "metadata": {},
   "source": [
    "For the second client, we have an elder French male who barely uses his account and has no money in it, he has a very low estimated salary and low credit score."
   ]
  },
  {
   "cell_type": "code",
   "execution_count": 113,
   "id": "ae982cc7",
   "metadata": {},
   "outputs": [],
   "source": [
    "Clientes.append([1, 0, 0, 0, 0, 1, 0, 0, 0, 0])\n",
    "#1 years tenure\n",
    "#0 products\n",
    "#0 has credit card\n",
    "#0 is active member\n",
    "#0 has money in account\n",
    "#1 male\n",
    "#0 from France\n",
    "#0 estimated salary from 11,500 to 41,050\n",
    "#0 age from 17 to 32 (young)\n",
    "#0 Credit Score from 350 to 584 (low)"
   ]
  },
  {
   "cell_type": "markdown",
   "id": "9a2ef411",
   "metadata": {},
   "source": [
    "For the third client, we use the exact same parameters as the previous with the exception of the age, he is a young man, so he probably created his bank account and currently has no money in it, but eventually he will."
   ]
  },
  {
   "cell_type": "code",
   "execution_count": 114,
   "id": "ed03dc50",
   "metadata": {},
   "outputs": [
    {
     "data": {
      "text/plain": [
       "array([0, 1, 0], dtype=int64)"
      ]
     },
     "execution_count": 114,
     "metadata": {},
     "output_type": "execute_result"
    }
   ],
   "source": [
    "model.predict(Clientes)"
   ]
  },
  {
   "cell_type": "code",
   "execution_count": 115,
   "id": "81c1b758",
   "metadata": {},
   "outputs": [
    {
     "data": {
      "text/plain": [
       "array([0, 1, 0], dtype=int64)"
      ]
     },
     "execution_count": 115,
     "metadata": {},
     "output_type": "execute_result"
    }
   ],
   "source": [
    "model_svc.predict(Clientes)"
   ]
  },
  {
   "cell_type": "code",
   "execution_count": 116,
   "id": "a516e0b1",
   "metadata": {},
   "outputs": [
    {
     "data": {
      "text/plain": [
       "array([0, 1, 0], dtype=int64)"
      ]
     },
     "execution_count": 116,
     "metadata": {},
     "output_type": "execute_result"
    }
   ],
   "source": [
    "model_svc_best.predict(Clientes)"
   ]
  },
  {
   "cell_type": "code",
   "execution_count": 117,
   "id": "c5ecdba0",
   "metadata": {},
   "outputs": [
    {
     "data": {
      "text/plain": [
       "array([0, 1, 0], dtype=int64)"
      ]
     },
     "execution_count": 117,
     "metadata": {},
     "output_type": "execute_result"
    }
   ],
   "source": [
    "tree_clf.predict(Clientes)"
   ]
  },
  {
   "cell_type": "code",
   "execution_count": 118,
   "id": "6b16221d",
   "metadata": {},
   "outputs": [
    {
     "data": {
      "text/plain": [
       "array([0, 1, 0], dtype=int64)"
      ]
     },
     "execution_count": 118,
     "metadata": {},
     "output_type": "execute_result"
    }
   ],
   "source": [
    "tree_clf_best.predict(Clientes)"
   ]
  },
  {
   "cell_type": "markdown",
   "id": "4cdf5564",
   "metadata": {},
   "source": [
    "As you can notice, in every prediction the algorithms show that the second client has exited the bank or he soon will withdraw his account, while the other two will remain with the company."
   ]
  },
  {
   "cell_type": "markdown",
   "id": "2290de15",
   "metadata": {},
   "source": [
    "# Conclusion"
   ]
  },
  {
   "cell_type": "markdown",
   "id": "3098c7f9",
   "metadata": {},
   "source": [
    "As you have noticed in this project, we can use different algorithms to predict if a client will remain in the company or leave it. This type of algorithms using churn rate could be very important to companies who manage suscriptions, contracts and accounts, such as streaming services, banking corporations, telecommunication providers and insurance companies.\n",
    "\n",
    "Knowing when a client is very close to exiting the company can be very important to guarantee that customers stays in the company, therefore significantly reducing the Churn Rate."
   ]
  },
  {
   "cell_type": "markdown",
   "id": "9030a988",
   "metadata": {},
   "source": [
    "# References"
   ]
  },
  {
   "cell_type": "markdown",
   "id": "1414c08f",
   "metadata": {},
   "source": [
    "O'Reilly - Hands-on Machine Learning with Scikit-Learn, Keras, and TensorFlow (2nd edition, 2019)"
   ]
  },
  {
   "cell_type": "markdown",
   "id": "392fe23a",
   "metadata": {},
   "source": [
    "https://www.investopedia.com/terms/c/churnrate.asp"
   ]
  },
  {
   "cell_type": "markdown",
   "id": "7a877b5a",
   "metadata": {},
   "source": [
    "https://www.iebschool.com/blog/que-es-churn-rate-marketing-digital/"
   ]
  },
  {
   "cell_type": "markdown",
   "id": "cefd1435",
   "metadata": {},
   "source": [
    "https://www.kaggle.com/omeryasirkucuk/calculation-accuracy-score-w-bank-churn-dataset/data"
   ]
  },
  {
   "cell_type": "markdown",
   "id": "ddaf607f",
   "metadata": {},
   "source": [
    " "
   ]
  },
  {
   "cell_type": "markdown",
   "id": "feb1510b",
   "metadata": {},
   "source": [
    "This project was made by <a href=\"https://mx.linkedin.com/in/christian-cabral-peniche-089bbb1b8\">Christian Cabral</a> for the subject of Business Intelligence taught by <a href=\"https://www.linkedin.com/in/novelo-luis/\">Luis Novelo</a> at Universidad Modelo."
   ]
  }
 ],
 "metadata": {
  "kernelspec": {
   "display_name": "Python 3",
   "language": "python",
   "name": "python3"
  },
  "language_info": {
   "codemirror_mode": {
    "name": "ipython",
    "version": 3
   },
   "file_extension": ".py",
   "mimetype": "text/x-python",
   "name": "python",
   "nbconvert_exporter": "python",
   "pygments_lexer": "ipython3",
   "version": "3.8.8"
  }
 },
 "nbformat": 4,
 "nbformat_minor": 5
}
